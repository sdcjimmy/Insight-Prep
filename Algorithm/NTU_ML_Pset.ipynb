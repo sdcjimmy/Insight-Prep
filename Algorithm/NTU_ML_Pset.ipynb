{
 "cells": [
  {
   "cell_type": "code",
   "execution_count": 1,
   "metadata": {},
   "outputs": [],
   "source": [
    "import pandas as pd\n",
    "import numpy as np"
   ]
  },
  {
   "cell_type": "markdown",
   "metadata": {},
   "source": [
    "# ProblemSet1"
   ]
  },
  {
   "cell_type": "code",
   "execution_count": 114,
   "metadata": {},
   "outputs": [],
   "source": [
    "dat = pd.read_table(\"https://www.csie.ntu.edu.tw/~htlin/mooc/datasets/mlfound_math/hw1_15_train.dat\", header=None)"
   ]
  },
  {
   "cell_type": "code",
   "execution_count": 116,
   "metadata": {},
   "outputs": [
    {
     "data": {
      "text/html": [
       "<div>\n",
       "<style scoped>\n",
       "    .dataframe tbody tr th:only-of-type {\n",
       "        vertical-align: middle;\n",
       "    }\n",
       "\n",
       "    .dataframe tbody tr th {\n",
       "        vertical-align: top;\n",
       "    }\n",
       "\n",
       "    .dataframe thead th {\n",
       "        text-align: right;\n",
       "    }\n",
       "</style>\n",
       "<table border=\"1\" class=\"dataframe\">\n",
       "  <thead>\n",
       "    <tr style=\"text-align: right;\">\n",
       "      <th></th>\n",
       "      <th>0</th>\n",
       "      <th>1</th>\n",
       "    </tr>\n",
       "  </thead>\n",
       "  <tbody>\n",
       "    <tr>\n",
       "      <th>0</th>\n",
       "      <td>0.97681 0.10723 0.64385 0.29556</td>\n",
       "      <td>1</td>\n",
       "    </tr>\n",
       "    <tr>\n",
       "      <th>1</th>\n",
       "      <td>0.67194 0.2418 0.83075 0.42741</td>\n",
       "      <td>1</td>\n",
       "    </tr>\n",
       "    <tr>\n",
       "      <th>2</th>\n",
       "      <td>0.20619 0.23321 0.81004 0.98691</td>\n",
       "      <td>1</td>\n",
       "    </tr>\n",
       "    <tr>\n",
       "      <th>3</th>\n",
       "      <td>0.51583 0.055814 0.92274 0.75797</td>\n",
       "      <td>1</td>\n",
       "    </tr>\n",
       "    <tr>\n",
       "      <th>4</th>\n",
       "      <td>0.70893 0.10836 0.33951 0.77058</td>\n",
       "      <td>1</td>\n",
       "    </tr>\n",
       "  </tbody>\n",
       "</table>\n",
       "</div>"
      ],
      "text/plain": [
       "                                  0  1\n",
       "0   0.97681 0.10723 0.64385 0.29556  1\n",
       "1    0.67194 0.2418 0.83075 0.42741  1\n",
       "2   0.20619 0.23321 0.81004 0.98691  1\n",
       "3  0.51583 0.055814 0.92274 0.75797  1\n",
       "4   0.70893 0.10836 0.33951 0.77058  1"
      ]
     },
     "execution_count": 116,
     "metadata": {},
     "output_type": "execute_result"
    }
   ],
   "source": [
    "dat.head()"
   ]
  },
  {
   "cell_type": "code",
   "execution_count": 104,
   "metadata": {},
   "outputs": [],
   "source": [
    "x = dat[0].str.split(' ').values\n",
    "y = dat[1]"
   ]
  },
  {
   "cell_type": "code",
   "execution_count": 143,
   "metadata": {},
   "outputs": [],
   "source": [
    "x = np.array([np.array(i).astype('float') for i in x])\n",
    "x = np.array([np.append(1,i) for i in x])\n",
    "y = np.array(y)"
   ]
  },
  {
   "cell_type": "code",
   "execution_count": 288,
   "metadata": {},
   "outputs": [
    {
     "data": {
      "text/plain": [
       "0.0"
      ]
     },
     "execution_count": 288,
     "metadata": {},
     "output_type": "execute_result"
    }
   ],
   "source": [
    "w = np.array([0,0,0,0,0])\n",
    "x[1].dot(w)"
   ]
  },
  {
   "cell_type": "code",
   "execution_count": 200,
   "metadata": {},
   "outputs": [],
   "source": [
    "def PLA(random = False, learning_rate = 1):\n",
    "    update = 0\n",
    "    round = 0\n",
    "    w = np.array([0,0,0,0,0])\n",
    "    halt = False\n",
    "    order = np.arange(400)\n",
    "    if random == True:\n",
    "            np.random.shuffle(order)\n",
    "    \n",
    "    while halt == False:\n",
    "        round += 1\n",
    "        #print('round:' + str(round), end=\" \")\n",
    "        #print('w =', end = \" \")\n",
    "        #print(w)\n",
    "        halt = True    \n",
    "        for i in order:\n",
    "            sign = -1\n",
    "            if x[i].dot(w) > 0:\n",
    "                sign = 1\n",
    "        \n",
    "            if y[i] * sign < 0:\n",
    "                w = w + learning_rate * y[i] * x[i]\n",
    "                update += 1\n",
    "                halt = False\n",
    "                \n",
    "    return w, update\n",
    "        \n"
   ]
  },
  {
   "cell_type": "markdown",
   "metadata": {},
   "source": [
    "### Problem15: Naive Cycle"
   ]
  },
  {
   "cell_type": "code",
   "execution_count": 194,
   "metadata": {},
   "outputs": [
    {
     "name": "stdout",
     "output_type": "stream",
     "text": [
      "45\n"
     ]
    }
   ],
   "source": [
    "_, update = PLA()\n",
    "print(update)"
   ]
  },
  {
   "cell_type": "markdown",
   "metadata": {},
   "source": [
    "### Problem16: Random Cycle"
   ]
  },
  {
   "cell_type": "code",
   "execution_count": 191,
   "metadata": {},
   "outputs": [],
   "source": [
    "\n",
    "updates = []\n",
    "for i in range(2000):\n",
    "    _, update = PLA(True)\n",
    "    updates.append(update)\n"
   ]
  },
  {
   "cell_type": "code",
   "execution_count": 195,
   "metadata": {},
   "outputs": [
    {
     "name": "stdout",
     "output_type": "stream",
     "text": [
      "40.249\n"
     ]
    }
   ],
   "source": [
    "print(np.mean(updates))"
   ]
  },
  {
   "cell_type": "markdown",
   "metadata": {},
   "source": [
    "### Problem16: Random Cycle with lower learning rate"
   ]
  },
  {
   "cell_type": "code",
   "execution_count": 201,
   "metadata": {},
   "outputs": [],
   "source": [
    "updates = []\n",
    "for i in range(2000):\n",
    "    _, update = PLA(True, learning_rate = 0.5)\n",
    "    updates.append(update)\n"
   ]
  },
  {
   "cell_type": "code",
   "execution_count": 202,
   "metadata": {},
   "outputs": [
    {
     "name": "stdout",
     "output_type": "stream",
     "text": [
      "40.2305\n"
     ]
    }
   ],
   "source": [
    "print(np.mean(updates))"
   ]
  },
  {
   "cell_type": "code",
   "execution_count": 216,
   "metadata": {},
   "outputs": [],
   "source": [
    "train = pd.read_table('https://www.csie.ntu.edu.tw/~htlin/mooc/datasets/mlfound_math/hw1_18_train.dat', header = None)\n",
    "test = pd.read_table('https://www.csie.ntu.edu.tw/~htlin/mooc/datasets/mlfound_math/hw1_18_test.dat', header = None)"
   ]
  },
  {
   "cell_type": "code",
   "execution_count": 217,
   "metadata": {},
   "outputs": [],
   "source": [
    "def process_dat(dat):\n",
    "    x = dat[0].str.split(' ').values\n",
    "    y = dat[1]\n",
    "    x = np.array([np.array(i).astype('float') for i in x])\n",
    "    x = np.array([np.append(1,i) for i in x])\n",
    "    y = np.array(y)\n",
    "    return x, y"
   ]
  },
  {
   "cell_type": "code",
   "execution_count": 218,
   "metadata": {},
   "outputs": [],
   "source": [
    "train_x, train_y = process_dat(train)\n",
    "test_x, test_y = process_dat(test)"
   ]
  },
  {
   "cell_type": "markdown",
   "metadata": {},
   "source": [
    "### Problem17: Pocket Algorithm"
   ]
  },
  {
   "cell_type": "code",
   "execution_count": 264,
   "metadata": {},
   "outputs": [],
   "source": [
    "def Pocket(x, y, max_iteration = 50):\n",
    "    n = x.shape[0]\n",
    "    update = 0\n",
    "    w = np.zeros(5)\n",
    "    best_w = np.zeros(5)\n",
    "    halt = False\n",
    "    \n",
    "    x_pred = np.where(x.dot(w)>0,1,-1)\n",
    "    error = np.where(x_pred != y)[0]\n",
    "    min_error = n\n",
    "    \n",
    "    while update < max_iteration:\n",
    "        i = np.random.choice(error)\n",
    "        \n",
    "        w = w + y[i] * x[i]\n",
    "        x_pred = np.where(x.dot(w)>0,1,-1)\n",
    "        error = np.where(x_pred != y)[0]\n",
    "        \n",
    "        if len(error) < min_error:\n",
    "            best_w = w\n",
    "            min_error = len(error)\n",
    "                \n",
    "        update += 1\n",
    "        \n",
    "    return w, best_w\n",
    "        \n"
   ]
  },
  {
   "cell_type": "code",
   "execution_count": 277,
   "metadata": {},
   "outputs": [],
   "source": [
    "errors = []\n",
    "for i in range(2000):\n",
    "    w, best_w = Pocket(train_x, train_y)\n",
    "    x_pred = np.where(test_x.dot(best_w)>0,1,-1)\n",
    "    error_test = np.where(x_pred != test_y)[0]\n",
    "    errors.append(len(error_test)/test_x.shape[0])\n",
    "    \n"
   ]
  },
  {
   "cell_type": "code",
   "execution_count": 281,
   "metadata": {},
   "outputs": [
    {
     "data": {
      "text/plain": [
       "0.132849"
      ]
     },
     "execution_count": 281,
     "metadata": {},
     "output_type": "execute_result"
    }
   ],
   "source": [
    "np.mean(errors)"
   ]
  },
  {
   "cell_type": "code",
   "execution_count": 286,
   "metadata": {},
   "outputs": [],
   "source": [
    "errors = []\n",
    "for i in range(2000):\n",
    "    w, best_w = Pocket(train_x, train_y)\n",
    "    x_pred = np.where(test_x.dot(w)>0,1,-1)\n",
    "    error_test = np.where(x_pred != test_y)[0]\n",
    "    errors.append(len(error_test)/test_x.shape[0])\n",
    "    \n"
   ]
  },
  {
   "cell_type": "code",
   "execution_count": 287,
   "metadata": {},
   "outputs": [
    {
     "data": {
      "text/plain": [
       "0.34825900000000004"
      ]
     },
     "execution_count": 287,
     "metadata": {},
     "output_type": "execute_result"
    }
   ],
   "source": [
    "np.mean(errors)"
   ]
  },
  {
   "cell_type": "code",
   "execution_count": 284,
   "metadata": {},
   "outputs": [],
   "source": [
    "errors = []\n",
    "for i in range(2000):\n",
    "    w, best_w = Pocket(train_x, train_y, max_iteration=100)\n",
    "    x_pred = np.where(test_x.dot(best_w)>0,1,-1)\n",
    "    error_test = np.where(x_pred != test_y)[0]\n",
    "    errors.append(len(error_test)/test_x.shape[0])\n",
    "    "
   ]
  },
  {
   "cell_type": "code",
   "execution_count": 285,
   "metadata": {},
   "outputs": [
    {
     "data": {
      "text/plain": [
       "0.11560300000000001"
      ]
     },
     "execution_count": 285,
     "metadata": {},
     "output_type": "execute_result"
    }
   ],
   "source": [
    "np.mean(errors)"
   ]
  },
  {
   "cell_type": "code",
   "execution_count": 263,
   "metadata": {},
   "outputs": [
    {
     "name": "stdout",
     "output_type": "stream",
     "text": [
      "1\n",
      "3\n",
      "3\n",
      "1\n",
      "5\n",
      "3\n",
      "5\n",
      "1\n",
      "3\n",
      "3\n",
      "5\n",
      "5\n",
      "5\n",
      "1\n",
      "5\n",
      "3\n",
      "3\n",
      "3\n",
      "1\n",
      "5\n"
     ]
    }
   ],
   "source": [
    "r = [1,3,5]\n",
    "for i in range(20):\n",
    "    print(np.random.choice(r))"
   ]
  },
  {
   "cell_type": "code",
   "execution_count": null,
   "metadata": {},
   "outputs": [],
   "source": []
  },
  {
   "cell_type": "code",
   "execution_count": null,
   "metadata": {},
   "outputs": [],
   "source": []
  }
 ],
 "metadata": {
  "kernelspec": {
   "display_name": "Python 3",
   "language": "python",
   "name": "python3"
  },
  "language_info": {
   "codemirror_mode": {
    "name": "ipython",
    "version": 3
   },
   "file_extension": ".py",
   "mimetype": "text/x-python",
   "name": "python",
   "nbconvert_exporter": "python",
   "pygments_lexer": "ipython3",
   "version": "3.6.5"
  }
 },
 "nbformat": 4,
 "nbformat_minor": 2
}
