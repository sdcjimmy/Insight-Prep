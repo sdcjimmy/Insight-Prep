{
 "cells": [
  {
   "cell_type": "markdown",
   "metadata": {},
   "source": [
    "# Graph Search Algorithm"
   ]
  },
  {
   "cell_type": "code",
   "execution_count": 21,
   "metadata": {},
   "outputs": [],
   "source": [
    "from collections import defaultdict\n",
    " \n",
    "# This class represents a directed graph\n",
    "# using adjacency list representation\n",
    "class Graph:\n",
    " \n",
    "    # Constructor\n",
    "    def __init__(self):\n",
    " \n",
    "        # default dictionary to store graph\n",
    "        self.graph = defaultdict(list)\n",
    " \n",
    "    # function to add an edge to graph\n",
    "    def addEdge(self,u,v):\n",
    "        self.graph[u].append(v)\n",
    "    # Function to print a BFS of graph\n",
    "    def BFS(self, s):\n",
    " \n",
    "        # Mark all the vertices as not visited\n",
    "        visited = [False] * (len(self.graph))\n",
    " \n",
    "        # Create a queue for BFS\n",
    "        queue = []\n",
    " \n",
    "        # Mark the source node as \n",
    "        # visited and enqueue it\n",
    "        queue.append(s)\n",
    "        visited[s] = True\n",
    "\n",
    "        while queue:\n",
    "            \n",
    "            # Dequeue a vertex from \n",
    "            # queue and print it\n",
    "            s = queue.pop(0)\n",
    "            print (s, end = \" \")\n",
    "            \n",
    "            # Get all adjacent vertices of the\n",
    "            # dequeued vertex s. If a adjacent\n",
    "            # has not been visited, then mark it\n",
    "            # visited and enqueue it\n",
    "            for i in self.graph[s]:\n",
    "                if visited[i] == False:\n",
    "                    queue.append(i)\n",
    "                    visited[i] = True\n",
    "                    \n",
    "    def DFS(self, s):\n",
    "        visited = [False] * len((self.graph))\n",
    "        \n",
    "        stack = []\n",
    "        \n",
    "        stack.append(s)\n",
    "        visited[s] = True\n",
    "        \n",
    "        while stack:\n",
    "            \n",
    "            s = stack.pop()\n",
    "            print(s, end = \" \")\n",
    "            \n",
    "            \n",
    "            for i in self.graph[s]:\n",
    "                if visited[i] == False:\n",
    "                    stack.append(i)\n",
    "                    visited[i] = True\n",
    "                    \n",
    "    def DFS_path(self, s):\n",
    "        visited = [False] * len((self.graph))\n",
    "        \n",
    "        stack = []\n",
    "        \n",
    "        stack.append(s)\n",
    "        visited[s] = True\n",
    "        print(\"start:\" + str(s), end = '')\n",
    "        while stack:\n",
    "            \n",
    "            s = stack.pop()            \n",
    "            \n",
    "            for i in self.graph[s]:\n",
    "                print(\" -> \" + str(i), end='')\n",
    "                if visited[i] == False:\n",
    "                    \n",
    "                    stack.append(i)\n",
    "                    visited[i] = True"
   ]
  },
  {
   "cell_type": "code",
   "execution_count": 22,
   "metadata": {},
   "outputs": [
    {
     "name": "stdout",
     "output_type": "stream",
     "text": [
      "Following is Breadth First Traversal (starting from vertex 2)\n",
      "2 0 3 1 \n",
      "Following is Depth First Traversal (starting from vertex 2)\n",
      "2 3 0 1 \n",
      "start:2 -> 0 -> 3 -> 3 -> 1 -> 2 -> 2"
     ]
    }
   ],
   "source": [
    "# Driver code\n",
    " \n",
    "# Create a graph given in\n",
    "# the above diagram\n",
    "g = Graph()\n",
    "g.addEdge(0, 1)\n",
    "g.addEdge(0, 2)\n",
    "g.addEdge(1, 2)\n",
    "g.addEdge(2, 0)\n",
    "g.addEdge(2, 3)\n",
    "g.addEdge(3, 3)\n",
    " \n",
    "print (\"Following is Breadth First Traversal\"\n",
    "                  \" (starting from vertex 2)\")\n",
    "g.BFS(2)\n",
    "print(\"\")\n",
    "\n",
    "print (\"Following is Depth First Traversal\"\n",
    "                  \" (starting from vertex 2)\")\n",
    "g.DFS(2)\n",
    "print(\"\")\n",
    "\n",
    "g.DFS_path(2)"
   ]
  },
  {
   "cell_type": "markdown",
   "metadata": {},
   "source": [
    "# Graph representation using adjency lsit"
   ]
  },
  {
   "cell_type": "markdown",
   "metadata": {},
   "source": [
    "## Breadth First Search\n",
    "\n",
    "#### Time Complexity:\n",
    "    Directed: O(V+2E)\n",
    "    UnDirected: O(V+E)"
   ]
  },
  {
   "cell_type": "code",
   "execution_count": 26,
   "metadata": {},
   "outputs": [],
   "source": [
    "def BFS(s, adj):\n",
    "    level = {s:0}\n",
    "    parent = dict()\n",
    "    i = 1\n",
    "    frontier = [s]\n",
    "    while frontier:\n",
    "        next = []\n",
    "        for u in frontier:\n",
    "            for v in adj[u]:\n",
    "                if v not in level:\n",
    "                    level[v] = i\n",
    "                    parent[v] = u\n",
    "                    next.append(v)\n",
    "        frontier = next\n",
    "        i += 1\n",
    "        \n",
    "    return parent, level\n",
    "    "
   ]
  },
  {
   "cell_type": "code",
   "execution_count": 27,
   "metadata": {},
   "outputs": [],
   "source": [
    "adj = {\n",
    "   0:[1,2],\n",
    "   1:[2],\n",
    "   2:[0,3],\n",
    "   3:[3]\n",
    "}\n",
    "BFS(2,adj)"
   ]
  },
  {
   "cell_type": "markdown",
   "metadata": {},
   "source": [
    "## Depth First Search\n",
    "\n",
    "#### Time Complexity:\n",
    "    Directed: O(V+2E)\n",
    "    UnDirected: O(V+E)"
   ]
  },
  {
   "cell_type": "code",
   "execution_count": 38,
   "metadata": {},
   "outputs": [],
   "source": [
    "parent = {}\n",
    "def DFS_visit(V, adj, s):\n",
    "    for v in adj[s]:\n",
    "        if v not in parent:\n",
    "            parent[v] = s\n",
    "            DFS_visit(V, adj, v)\n",
    "        \n",
    "        \n",
    "def DFS(V, adj):\n",
    "    parent = {}\n",
    "    for s in V:\n",
    "        if s not in parent:\n",
    "            parent[s] = None\n",
    "            DFS_visit(V, adj, s)\n",
    "\n",
    "s = 2\n",
    "V = adj.keys()"
   ]
  },
  {
   "cell_type": "code",
   "execution_count": 39,
   "metadata": {},
   "outputs": [],
   "source": [
    "DFS(V, adj)"
   ]
  },
  {
   "cell_type": "markdown",
   "metadata": {},
   "source": [
    "# Shortest Path\n",
    "\n",
    "#### DAG \n",
    "#### Dijastra\n",
    "#### Bell-Ford"
   ]
  },
  {
   "cell_type": "code",
   "execution_count": null,
   "metadata": {},
   "outputs": [],
   "source": []
  }
 ],
 "metadata": {
  "kernelspec": {
   "display_name": "Python 3",
   "language": "python",
   "name": "python3"
  },
  "language_info": {
   "codemirror_mode": {
    "name": "ipython",
    "version": 3
   },
   "file_extension": ".py",
   "mimetype": "text/x-python",
   "name": "python",
   "nbconvert_exporter": "python",
   "pygments_lexer": "ipython3",
   "version": "3.6.5"
  }
 },
 "nbformat": 4,
 "nbformat_minor": 2
}
