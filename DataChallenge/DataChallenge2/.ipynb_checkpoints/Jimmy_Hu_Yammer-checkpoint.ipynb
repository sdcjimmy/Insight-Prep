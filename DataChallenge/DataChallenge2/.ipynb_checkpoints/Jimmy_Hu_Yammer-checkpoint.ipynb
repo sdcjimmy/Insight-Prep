{
 "cells": [
  {
   "cell_type": "markdown",
   "metadata": {},
   "source": [
    "# Investigating a Drop in User Engagement"
   ]
  },
  {
   "cell_type": "markdown",
   "metadata": {},
   "source": [
    "### Problem\n",
    "You show up to work Tuesday morning, September 2, 2014. The head of the Product team walks over to your desk and asks you what you think about the latest activity on the user engagement dashboards (yes this really happens). You fire them up, and something immediately jumps out:\n"
   ]
  },
  {
   "cell_type": "markdown",
   "metadata": {},
   "source": [
    "![](engagement_plot.png)"
   ]
  },
  {
   "cell_type": "markdown",
   "metadata": {},
   "source": [
    "the above chart shows the number of engaged users each week. Yammer defines engagement as having made some type of server call by interacting with the product (shown in the data as events of type “engagement”). Any point in this chart can be interpreted as “the number of users who logged at least one engagement event during the week starting on that date.”\n",
    "### Question:\n",
    "The head of product says “Can you look into this and get me a summary by this afternoon?”  As she runs to a meeting.\n"
   ]
  },
  {
   "cell_type": "markdown",
   "metadata": {},
   "source": [
    "## Approach\n",
    "\n",
    "1. First, we want to identified what cause the active users to decrease in August. The cause can roughly be categorized into two types: \n",
    "    - Increase of dropout users of the previous month \n",
    "    - Decrease growth of new users\n",
    "      \n",
    "2. If we can identified the group causing the decrease of active user, we can then further examine the distribution of different features in August"
   ]
  },
  {
   "cell_type": "code",
   "execution_count": 1,
   "metadata": {},
   "outputs": [],
   "source": [
    "import pandas as pd\n",
    "import matplotlib.pyplot as plt\n",
    "import numpy as np\n",
    "import seaborn as sns\n",
    "\n",
    "from function import *\n",
    "\n",
    "pd.options.mode.chained_assignment = None\n",
    "\n",
    "%matplotlib inline"
   ]
  },
  {
   "cell_type": "code",
   "execution_count": 2,
   "metadata": {},
   "outputs": [],
   "source": [
    "users = pd.read_csv(\"data/yammer_users.csv\")\n",
    "events = pd.read_csv(\"data/yammer_events.csv\")\n",
    "email = pd.read_csv(\"data/yammer_emails.csv\")\n",
    "period = pd.read_csv(\"data/dimension_rollup_periods.csv\")\n",
    "\n",
    "# Convert the date string to timestamp data type\n",
    "users['created_at'] = pd.to_datetime(users['created_at'])\n",
    "users['activated_at'] = pd.to_datetime(users['activated_at'])\n",
    "events['occurred_at'] = pd.to_datetime(events['occurred_at'])"
   ]
  },
  {
   "cell_type": "code",
   "execution_count": 3,
   "metadata": {},
   "outputs": [
    {
     "data": {
      "text/html": [
       "<div>\n",
       "<style scoped>\n",
       "    .dataframe tbody tr th:only-of-type {\n",
       "        vertical-align: middle;\n",
       "    }\n",
       "\n",
       "    .dataframe tbody tr th {\n",
       "        vertical-align: top;\n",
       "    }\n",
       "\n",
       "    .dataframe thead th {\n",
       "        text-align: right;\n",
       "    }\n",
       "</style>\n",
       "<table border=\"1\" class=\"dataframe\">\n",
       "  <thead>\n",
       "    <tr style=\"text-align: right;\">\n",
       "      <th></th>\n",
       "      <th>user_id</th>\n",
       "      <th>created_at</th>\n",
       "      <th>company_id</th>\n",
       "      <th>language</th>\n",
       "      <th>activated_at</th>\n",
       "      <th>state</th>\n",
       "    </tr>\n",
       "  </thead>\n",
       "  <tbody>\n",
       "    <tr>\n",
       "      <th>0</th>\n",
       "      <td>0.0</td>\n",
       "      <td>2013-01-01 20:59:39</td>\n",
       "      <td>5737.0</td>\n",
       "      <td>english</td>\n",
       "      <td>2013-01-01 21:01:07</td>\n",
       "      <td>active</td>\n",
       "    </tr>\n",
       "    <tr>\n",
       "      <th>1</th>\n",
       "      <td>1.0</td>\n",
       "      <td>2013-01-01 13:07:46</td>\n",
       "      <td>28.0</td>\n",
       "      <td>english</td>\n",
       "      <td>NaT</td>\n",
       "      <td>pending</td>\n",
       "    </tr>\n",
       "    <tr>\n",
       "      <th>2</th>\n",
       "      <td>2.0</td>\n",
       "      <td>2013-01-01 10:59:05</td>\n",
       "      <td>51.0</td>\n",
       "      <td>english</td>\n",
       "      <td>NaT</td>\n",
       "      <td>pending</td>\n",
       "    </tr>\n",
       "    <tr>\n",
       "      <th>3</th>\n",
       "      <td>3.0</td>\n",
       "      <td>2013-01-01 18:40:36</td>\n",
       "      <td>2800.0</td>\n",
       "      <td>german</td>\n",
       "      <td>2013-01-01 18:42:02</td>\n",
       "      <td>active</td>\n",
       "    </tr>\n",
       "    <tr>\n",
       "      <th>4</th>\n",
       "      <td>4.0</td>\n",
       "      <td>2013-01-01 14:37:51</td>\n",
       "      <td>5110.0</td>\n",
       "      <td>indian</td>\n",
       "      <td>2013-01-01 14:39:05</td>\n",
       "      <td>active</td>\n",
       "    </tr>\n",
       "  </tbody>\n",
       "</table>\n",
       "</div>"
      ],
      "text/plain": [
       "   user_id          created_at  company_id language        activated_at  \\\n",
       "0      0.0 2013-01-01 20:59:39      5737.0  english 2013-01-01 21:01:07   \n",
       "1      1.0 2013-01-01 13:07:46        28.0  english                 NaT   \n",
       "2      2.0 2013-01-01 10:59:05        51.0  english                 NaT   \n",
       "3      3.0 2013-01-01 18:40:36      2800.0   german 2013-01-01 18:42:02   \n",
       "4      4.0 2013-01-01 14:37:51      5110.0   indian 2013-01-01 14:39:05   \n",
       "\n",
       "     state  \n",
       "0   active  \n",
       "1  pending  \n",
       "2  pending  \n",
       "3   active  \n",
       "4   active  "
      ]
     },
     "execution_count": 3,
     "metadata": {},
     "output_type": "execute_result"
    }
   ],
   "source": [
    "users.head()"
   ]
  },
  {
   "cell_type": "code",
   "execution_count": 4,
   "metadata": {},
   "outputs": [
    {
     "data": {
      "text/html": [
       "<div>\n",
       "<style scoped>\n",
       "    .dataframe tbody tr th:only-of-type {\n",
       "        vertical-align: middle;\n",
       "    }\n",
       "\n",
       "    .dataframe tbody tr th {\n",
       "        vertical-align: top;\n",
       "    }\n",
       "\n",
       "    .dataframe thead th {\n",
       "        text-align: right;\n",
       "    }\n",
       "</style>\n",
       "<table border=\"1\" class=\"dataframe\">\n",
       "  <thead>\n",
       "    <tr style=\"text-align: right;\">\n",
       "      <th></th>\n",
       "      <th>user_id</th>\n",
       "      <th>occurred_at</th>\n",
       "      <th>event_type</th>\n",
       "      <th>event_name</th>\n",
       "      <th>location</th>\n",
       "      <th>device</th>\n",
       "      <th>user_type</th>\n",
       "    </tr>\n",
       "  </thead>\n",
       "  <tbody>\n",
       "    <tr>\n",
       "      <th>0</th>\n",
       "      <td>10522.0</td>\n",
       "      <td>2014-05-02 11:02:39</td>\n",
       "      <td>engagement</td>\n",
       "      <td>login</td>\n",
       "      <td>Japan</td>\n",
       "      <td>dell inspiron notebook</td>\n",
       "      <td>3.0</td>\n",
       "    </tr>\n",
       "    <tr>\n",
       "      <th>1</th>\n",
       "      <td>10522.0</td>\n",
       "      <td>2014-05-02 11:02:53</td>\n",
       "      <td>engagement</td>\n",
       "      <td>home_page</td>\n",
       "      <td>Japan</td>\n",
       "      <td>dell inspiron notebook</td>\n",
       "      <td>3.0</td>\n",
       "    </tr>\n",
       "    <tr>\n",
       "      <th>2</th>\n",
       "      <td>10522.0</td>\n",
       "      <td>2014-05-02 11:03:28</td>\n",
       "      <td>engagement</td>\n",
       "      <td>like_message</td>\n",
       "      <td>Japan</td>\n",
       "      <td>dell inspiron notebook</td>\n",
       "      <td>3.0</td>\n",
       "    </tr>\n",
       "    <tr>\n",
       "      <th>3</th>\n",
       "      <td>10522.0</td>\n",
       "      <td>2014-05-02 11:04:09</td>\n",
       "      <td>engagement</td>\n",
       "      <td>view_inbox</td>\n",
       "      <td>Japan</td>\n",
       "      <td>dell inspiron notebook</td>\n",
       "      <td>3.0</td>\n",
       "    </tr>\n",
       "    <tr>\n",
       "      <th>4</th>\n",
       "      <td>10522.0</td>\n",
       "      <td>2014-05-02 11:03:16</td>\n",
       "      <td>engagement</td>\n",
       "      <td>search_run</td>\n",
       "      <td>Japan</td>\n",
       "      <td>dell inspiron notebook</td>\n",
       "      <td>3.0</td>\n",
       "    </tr>\n",
       "  </tbody>\n",
       "</table>\n",
       "</div>"
      ],
      "text/plain": [
       "   user_id         occurred_at  event_type    event_name location  \\\n",
       "0  10522.0 2014-05-02 11:02:39  engagement         login    Japan   \n",
       "1  10522.0 2014-05-02 11:02:53  engagement     home_page    Japan   \n",
       "2  10522.0 2014-05-02 11:03:28  engagement  like_message    Japan   \n",
       "3  10522.0 2014-05-02 11:04:09  engagement    view_inbox    Japan   \n",
       "4  10522.0 2014-05-02 11:03:16  engagement    search_run    Japan   \n",
       "\n",
       "                   device  user_type  \n",
       "0  dell inspiron notebook        3.0  \n",
       "1  dell inspiron notebook        3.0  \n",
       "2  dell inspiron notebook        3.0  \n",
       "3  dell inspiron notebook        3.0  \n",
       "4  dell inspiron notebook        3.0  "
      ]
     },
     "execution_count": 4,
     "metadata": {},
     "output_type": "execute_result"
    }
   ],
   "source": [
    "events.head()"
   ]
  },
  {
   "cell_type": "markdown",
   "metadata": {},
   "source": [
    "The user and event information are most related to the our problem. Therefore we will explore these two table first."
   ]
  },
  {
   "cell_type": "code",
   "execution_count": 5,
   "metadata": {},
   "outputs": [
    {
     "data": {
      "text/html": [
       "<div>\n",
       "<style scoped>\n",
       "    .dataframe tbody tr th:only-of-type {\n",
       "        vertical-align: middle;\n",
       "    }\n",
       "\n",
       "    .dataframe tbody tr th {\n",
       "        vertical-align: top;\n",
       "    }\n",
       "\n",
       "    .dataframe thead th {\n",
       "        text-align: right;\n",
       "    }\n",
       "</style>\n",
       "<table border=\"1\" class=\"dataframe\">\n",
       "  <thead>\n",
       "    <tr style=\"text-align: right;\">\n",
       "      <th></th>\n",
       "      <th>month</th>\n",
       "      <th>week</th>\n",
       "      <th>user_id</th>\n",
       "      <th>events_count</th>\n",
       "      <th>last_engagement</th>\n",
       "      <th>created_at</th>\n",
       "      <th>company_id</th>\n",
       "      <th>language</th>\n",
       "      <th>activated_at</th>\n",
       "      <th>state</th>\n",
       "      <th>activate_length</th>\n",
       "    </tr>\n",
       "  </thead>\n",
       "  <tbody>\n",
       "    <tr>\n",
       "      <th>0</th>\n",
       "      <td>5</td>\n",
       "      <td>18</td>\n",
       "      <td>8.0</td>\n",
       "      <td>2</td>\n",
       "      <td>2014-05-02 07:20:52</td>\n",
       "      <td>2013-01-01 04:38:30</td>\n",
       "      <td>2698.0</td>\n",
       "      <td>french</td>\n",
       "      <td>2013-01-01 04:40:10</td>\n",
       "      <td>active</td>\n",
       "      <td>486</td>\n",
       "    </tr>\n",
       "    <tr>\n",
       "      <th>1</th>\n",
       "      <td>5</td>\n",
       "      <td>19</td>\n",
       "      <td>8.0</td>\n",
       "      <td>15</td>\n",
       "      <td>2014-05-09 09:26:24</td>\n",
       "      <td>2013-01-01 04:38:30</td>\n",
       "      <td>2698.0</td>\n",
       "      <td>french</td>\n",
       "      <td>2013-01-01 04:40:10</td>\n",
       "      <td>active</td>\n",
       "      <td>493</td>\n",
       "    </tr>\n",
       "    <tr>\n",
       "      <th>2</th>\n",
       "      <td>5</td>\n",
       "      <td>20</td>\n",
       "      <td>8.0</td>\n",
       "      <td>3</td>\n",
       "      <td>2014-05-13 07:52:31</td>\n",
       "      <td>2013-01-01 04:38:30</td>\n",
       "      <td>2698.0</td>\n",
       "      <td>french</td>\n",
       "      <td>2013-01-01 04:40:10</td>\n",
       "      <td>active</td>\n",
       "      <td>497</td>\n",
       "    </tr>\n",
       "    <tr>\n",
       "      <th>3</th>\n",
       "      <td>5</td>\n",
       "      <td>21</td>\n",
       "      <td>8.0</td>\n",
       "      <td>9</td>\n",
       "      <td>2014-05-23 08:47:03</td>\n",
       "      <td>2013-01-01 04:38:30</td>\n",
       "      <td>2698.0</td>\n",
       "      <td>french</td>\n",
       "      <td>2013-01-01 04:40:10</td>\n",
       "      <td>active</td>\n",
       "      <td>507</td>\n",
       "    </tr>\n",
       "    <tr>\n",
       "      <th>4</th>\n",
       "      <td>7</td>\n",
       "      <td>31</td>\n",
       "      <td>8.0</td>\n",
       "      <td>7</td>\n",
       "      <td>2014-07-30 06:10:09</td>\n",
       "      <td>2013-01-01 04:38:30</td>\n",
       "      <td>2698.0</td>\n",
       "      <td>french</td>\n",
       "      <td>2013-01-01 04:40:10</td>\n",
       "      <td>active</td>\n",
       "      <td>575</td>\n",
       "    </tr>\n",
       "  </tbody>\n",
       "</table>\n",
       "</div>"
      ],
      "text/plain": [
       "   month  week  user_id  events_count     last_engagement          created_at  \\\n",
       "0      5    18      8.0             2 2014-05-02 07:20:52 2013-01-01 04:38:30   \n",
       "1      5    19      8.0            15 2014-05-09 09:26:24 2013-01-01 04:38:30   \n",
       "2      5    20      8.0             3 2014-05-13 07:52:31 2013-01-01 04:38:30   \n",
       "3      5    21      8.0             9 2014-05-23 08:47:03 2013-01-01 04:38:30   \n",
       "4      7    31      8.0             7 2014-07-30 06:10:09 2013-01-01 04:38:30   \n",
       "\n",
       "   company_id language        activated_at   state  activate_length  \n",
       "0      2698.0   french 2013-01-01 04:40:10  active              486  \n",
       "1      2698.0   french 2013-01-01 04:40:10  active              493  \n",
       "2      2698.0   french 2013-01-01 04:40:10  active              497  \n",
       "3      2698.0   french 2013-01-01 04:40:10  active              507  \n",
       "4      2698.0   french 2013-01-01 04:40:10  active              575  "
      ]
     },
     "execution_count": 5,
     "metadata": {},
     "output_type": "execute_result"
    }
   ],
   "source": [
    "# Get all the active user's information, group by \"month\" and \"week\"\n",
    "active_user = get_active_user(events, users)\n",
    "active_user.head()"
   ]
  },
  {
   "cell_type": "markdown",
   "metadata": {},
   "source": [
    "### Does the loss of active users caused by the increase of dropout user? \n",
    "\n",
    "To answer the question, we calculate the dropout count and dropout rate over week. Dropout is defined as the active users who is presented in the previous week, but not in the current week. The data contains only information from May to August, which equals to from week 18 to week 35"
   ]
  },
  {
   "cell_type": "code",
   "execution_count": 6,
   "metadata": {},
   "outputs": [
    {
     "data": {
      "text/html": [
       "<div>\n",
       "<style scoped>\n",
       "    .dataframe tbody tr th:only-of-type {\n",
       "        vertical-align: middle;\n",
       "    }\n",
       "\n",
       "    .dataframe tbody tr th {\n",
       "        vertical-align: top;\n",
       "    }\n",
       "\n",
       "    .dataframe thead th {\n",
       "        text-align: right;\n",
       "    }\n",
       "</style>\n",
       "<table border=\"1\" class=\"dataframe\">\n",
       "  <thead>\n",
       "    <tr style=\"text-align: right;\">\n",
       "      <th></th>\n",
       "      <th>week</th>\n",
       "      <th>active_user</th>\n",
       "      <th>drop_out_count</th>\n",
       "      <th>drop_out_rate</th>\n",
       "    </tr>\n",
       "  </thead>\n",
       "  <tbody>\n",
       "    <tr>\n",
       "      <th>0</th>\n",
       "      <td>18</td>\n",
       "      <td>701</td>\n",
       "      <td>214</td>\n",
       "      <td>0.305278</td>\n",
       "    </tr>\n",
       "    <tr>\n",
       "      <th>1</th>\n",
       "      <td>19</td>\n",
       "      <td>1054</td>\n",
       "      <td>424</td>\n",
       "      <td>0.402277</td>\n",
       "    </tr>\n",
       "    <tr>\n",
       "      <th>2</th>\n",
       "      <td>20</td>\n",
       "      <td>1094</td>\n",
       "      <td>399</td>\n",
       "      <td>0.364717</td>\n",
       "    </tr>\n",
       "    <tr>\n",
       "      <th>3</th>\n",
       "      <td>21</td>\n",
       "      <td>1147</td>\n",
       "      <td>490</td>\n",
       "      <td>0.427201</td>\n",
       "    </tr>\n",
       "    <tr>\n",
       "      <th>4</th>\n",
       "      <td>22</td>\n",
       "      <td>1186</td>\n",
       "      <td>446</td>\n",
       "      <td>0.376054</td>\n",
       "    </tr>\n",
       "  </tbody>\n",
       "</table>\n",
       "</div>"
      ],
      "text/plain": [
       "   week  active_user  drop_out_count  drop_out_rate\n",
       "0    18          701             214       0.305278\n",
       "1    19         1054             424       0.402277\n",
       "2    20         1094             399       0.364717\n",
       "3    21         1147             490       0.427201\n",
       "4    22         1186             446       0.376054"
      ]
     },
     "execution_count": 6,
     "metadata": {},
     "output_type": "execute_result"
    }
   ],
   "source": [
    "drop_out_df = get_dropout_df(active_user)\n",
    "drop_out_df.head()"
   ]
  },
  {
   "cell_type": "code",
   "execution_count": 7,
   "metadata": {},
   "outputs": [
    {
     "data": {
      "image/png": "[encoded data removed]",
      "text/plain": [
       "<Figure size 432x288 with 2 Axes>"
      ]
     },
     "metadata": {},
     "output_type": "display_data"
    }
   ],
   "source": [
    "fig = plt.figure()\n",
    "\n",
    "ax1 = fig.add_subplot(2,1,1 )\n",
    "ax1.plot(drop_out_df.week, drop_out_df.active_user)\n",
    "ax1.plot(drop_out_df.week, drop_out_df.drop_out_count)\n",
    "ax1.legend(['Active User Counts', 'Dropout User Counts'], prop={'size': 7})\n",
    "ax1.set_xlabel(\"Week\")\n",
    "ax1.set_ylabel(\"Counts\")\n",
    "ax1.set_title(\"Dropout count over week\")\n",
    "\n",
    "ax2 = fig.add_subplot(2,1,2)\n",
    "ax2.plot(drop_out_df.week, drop_out_df.drop_out_rate)\n",
    "ax2.set_xlabel(\"Week\")\n",
    "ax2.set_ylabel(\"Drop out rate\")\n",
    "ax2.set_title(\"Dropout rate over week\")\n",
    "\n",
    "plt.tight_layout()\n",
    "plt.show()"
   ]
  },
  {
   "cell_type": "markdown",
   "metadata": {},
   "source": [
    "Looking at the numbers of dropout users, there seems not to increase significantly. However, the counts should be influenced by the total active users, so we take a look at the drop out rate.\n",
    "\n",
    "The second line plot shows the dropout rate. We can see that indeed dropout rate become higher in the last three weeks(32-34) are higher. "
   ]
  },
  {
   "cell_type": "markdown",
   "metadata": {},
   "source": [
    "### Does the loss of active users caused by the decrease of new users? \n",
    "\n",
    "Next, we calculate the new users count and new user rate over week. New users can be someone who just activate their account, or someone who didn't use for a period of time but re-activate again. For simplicity, I define the new users as the users who was not active in the previous month, but become active in the current month.\n"
   ]
  },
  {
   "cell_type": "code",
   "execution_count": 8,
   "metadata": {},
   "outputs": [
    {
     "ename": "NameError",
     "evalue": "name 'drop_out' is not defined",
     "output_type": "error",
     "traceback": [
      "\u001b[0;31m---------------------------------------------------------------------------\u001b[0m",
      "\u001b[0;31mNameError\u001b[0m                                 Traceback (most recent call last)",
      "\u001b[0;32m<ipython-input-8-e3f55029a9e1>\u001b[0m in \u001b[0;36m<module>\u001b[0;34m()\u001b[0m\n\u001b[1;32m      1\u001b[0m \u001b[0;31m# Calculate the new users\u001b[0m\u001b[0;34m\u001b[0m\u001b[0;34m\u001b[0m\u001b[0m\n\u001b[0;32m----> 2\u001b[0;31m \u001b[0mnew_user_df\u001b[0m \u001b[0;34m=\u001b[0m \u001b[0mget_newuser_df\u001b[0m\u001b[0;34m(\u001b[0m\u001b[0mactive_user\u001b[0m\u001b[0;34m)\u001b[0m\u001b[0;34m\u001b[0m\u001b[0m\n\u001b[0m\u001b[1;32m      3\u001b[0m \u001b[0mnew_user_df\u001b[0m\u001b[0;34m.\u001b[0m\u001b[0mhead\u001b[0m\u001b[0;34m(\u001b[0m\u001b[0;34m)\u001b[0m\u001b[0;34m\u001b[0m\u001b[0m\n",
      "\u001b[0;32m~/GoogleDrive/Insight/DataChallenge/DataChallenge2/function.py\u001b[0m in \u001b[0;36mget_newuser_df\u001b[0;34m(active_user)\u001b[0m\n\u001b[1;32m     52\u001b[0m         \u001b[0mnew_user\u001b[0m \u001b[0;34m=\u001b[0m \u001b[0mlen\u001b[0m\u001b[0;34m(\u001b[0m\u001b[0mlist\u001b[0m\u001b[0;34m(\u001b[0m\u001b[0mset\u001b[0m\u001b[0;34m(\u001b[0m\u001b[0mcurrent_month_user\u001b[0m\u001b[0;34m)\u001b[0m \u001b[0;34m-\u001b[0m \u001b[0mset\u001b[0m\u001b[0;34m(\u001b[0m\u001b[0mlast_month_user\u001b[0m\u001b[0;34m)\u001b[0m\u001b[0;34m)\u001b[0m\u001b[0;34m)\u001b[0m\u001b[0;34m\u001b[0m\u001b[0m\n\u001b[1;32m     53\u001b[0m         \u001b[0mnew_user_count\u001b[0m\u001b[0;34m.\u001b[0m\u001b[0mappend\u001b[0m\u001b[0;34m(\u001b[0m\u001b[0mnew_user\u001b[0m\u001b[0;34m)\u001b[0m\u001b[0;34m\u001b[0m\u001b[0m\n\u001b[0;32m---> 54\u001b[0;31m         \u001b[0mnew_user_rate\u001b[0m\u001b[0;34m.\u001b[0m\u001b[0mappend\u001b[0m\u001b[0;34m(\u001b[0m\u001b[0mdrop_out\u001b[0m\u001b[0;34m/\u001b[0m\u001b[0mactive_users_count\u001b[0m\u001b[0;34m[\u001b[0m\u001b[0mi\u001b[0m\u001b[0;34m]\u001b[0m\u001b[0;34m)\u001b[0m\u001b[0;34m\u001b[0m\u001b[0m\n\u001b[0m\u001b[1;32m     55\u001b[0m \u001b[0;34m\u001b[0m\u001b[0m\n\u001b[1;32m     56\u001b[0m     new_user_df = pd.DataFrame({\"active_user\":active_users_count[1:],\n",
      "\u001b[0;31mNameError\u001b[0m: name 'drop_out' is not defined"
     ]
    }
   ],
   "source": [
    "# Calculate the new users\n",
    "new_user_df = get_newuser_df(active_user)\n",
    "new_user_df.head()"
   ]
  },
  {
   "cell_type": "code",
   "execution_count": 9,
   "metadata": {},
   "outputs": [
    {
     "data": {
      "image/png": "[encoded data removed]",
      "text/plain": [
       "<Figure size 432x288 with 2 Axes>"
      ]
     },
     "metadata": {},
     "output_type": "display_data"
    }
   ],
   "source": [
    "fig = plt.figure()\n",
    "\n",
    "ax1 = fig.add_subplot(2,1,1)\n",
    "ax1.plot(new_user_df.week, new_user_df.active_user)\n",
    "ax1.plot(new_user_df.week, new_user_df.new_user_count)\n",
    "ax1.legend(['Active User Counts', 'New User Counts'], prop={'size': 7})\n",
    "ax1.set_xlabel(\"Week\")\n",
    "ax1.set_ylabel(\"Counts\")\n",
    "ax1.set_title(\"New user counts over week\")\n",
    "\n",
    "ax2 = fig.add_subplot(2,1,2)\n",
    "ax2.plot(new_user_df.week, new_user_df.new_user_rate)\n",
    "ax2.set_xlabel(\"Week\")\n",
    "ax2.set_ylabel(\"New user rate\")\n",
    "ax2.set_title(\"New user rate over week\")\n",
    "\n",
    "plt.tight_layout()\n",
    "plt.show()"
   ]
  },
  {
   "cell_type": "markdown",
   "metadata": {},
   "source": [
    "The new user counts did not decrease significantly at the last few weeks, so "
   ]
  },
  {
   "cell_type": "markdown",
   "metadata": {},
   "source": [
    "### Explore the subgroup users that drop out in the last three weeks"
   ]
  },
  {
   "cell_type": "code",
   "execution_count": 10,
   "metadata": {},
   "outputs": [],
   "source": [
    "aug_drop_user_id = get_dropout_user_id(active_user, 32, 35)\n",
    "control_drop_user_id = get_dropout_user_id(active_user, 18,32)"
   ]
  },
  {
   "cell_type": "code",
   "execution_count": 11,
   "metadata": {},
   "outputs": [],
   "source": [
    "aug_drop_users = active_user[active_user.user_id.isin(aug_drop_user_id)]\n",
    "control_drop_users = active_user[active_user.user_id.isin(control_drop_user_id)]"
   ]
  },
  {
   "cell_type": "code",
   "execution_count": 12,
   "metadata": {},
   "outputs": [],
   "source": [
    "aug_drop_users = aug_drop_users[aug_drop_users.week.isin([32,33,34])]\n",
    "aug_drop_users = aug_drop_users.drop_duplicates(subset='user_id', keep=\"last\")\n",
    "\n",
    "control_drop_users = control_drop_users[control_drop_users.week.isin(range(18,32))]\n",
    "control_drop_users = control_drop_users.drop_duplicates(subset='user_id', keep=\"last\")"
   ]
  },
  {
   "cell_type": "code",
   "execution_count": 13,
   "metadata": {},
   "outputs": [
    {
     "data": {
      "text/html": [
       "<div>\n",
       "<style scoped>\n",
       "    .dataframe tbody tr th:only-of-type {\n",
       "        vertical-align: middle;\n",
       "    }\n",
       "\n",
       "    .dataframe tbody tr th {\n",
       "        vertical-align: top;\n",
       "    }\n",
       "\n",
       "    .dataframe thead th {\n",
       "        text-align: right;\n",
       "    }\n",
       "</style>\n",
       "<table border=\"1\" class=\"dataframe\">\n",
       "  <thead>\n",
       "    <tr style=\"text-align: right;\">\n",
       "      <th></th>\n",
       "      <th>month</th>\n",
       "      <th>week</th>\n",
       "      <th>user_id</th>\n",
       "      <th>events_count</th>\n",
       "      <th>last_engagement</th>\n",
       "      <th>created_at</th>\n",
       "      <th>company_id</th>\n",
       "      <th>language</th>\n",
       "      <th>activated_at</th>\n",
       "      <th>state</th>\n",
       "      <th>activate_lenght</th>\n",
       "    </tr>\n",
       "  </thead>\n",
       "  <tbody>\n",
       "    <tr>\n",
       "      <th>89</th>\n",
       "      <td>8</td>\n",
       "      <td>32</td>\n",
       "      <td>319.0</td>\n",
       "      <td>5</td>\n",
       "      <td>2014-08-07 09:32:49</td>\n",
       "      <td>2013-01-31 00:34:12</td>\n",
       "      <td>3.0</td>\n",
       "      <td>spanish</td>\n",
       "      <td>2013-01-31 00:35:43</td>\n",
       "      <td>active</td>\n",
       "      <td>553</td>\n",
       "    </tr>\n",
       "    <tr>\n",
       "      <th>95</th>\n",
       "      <td>8</td>\n",
       "      <td>33</td>\n",
       "      <td>365.0</td>\n",
       "      <td>27</td>\n",
       "      <td>2014-08-14 15:08:55</td>\n",
       "      <td>2013-02-04 03:53:48</td>\n",
       "      <td>10053.0</td>\n",
       "      <td>spanish</td>\n",
       "      <td>2013-02-04 03:55:18</td>\n",
       "      <td>active</td>\n",
       "      <td>556</td>\n",
       "    </tr>\n",
       "    <tr>\n",
       "      <th>127</th>\n",
       "      <td>8</td>\n",
       "      <td>32</td>\n",
       "      <td>492.0</td>\n",
       "      <td>9</td>\n",
       "      <td>2014-08-05 12:19:36</td>\n",
       "      <td>2013-02-14 13:11:47</td>\n",
       "      <td>8821.0</td>\n",
       "      <td>english</td>\n",
       "      <td>2013-02-14 13:13:04</td>\n",
       "      <td>active</td>\n",
       "      <td>536</td>\n",
       "    </tr>\n",
       "    <tr>\n",
       "      <th>158</th>\n",
       "      <td>8</td>\n",
       "      <td>32</td>\n",
       "      <td>591.0</td>\n",
       "      <td>5</td>\n",
       "      <td>2014-08-07 18:03:10</td>\n",
       "      <td>2013-02-22 13:28:31</td>\n",
       "      <td>3.0</td>\n",
       "      <td>italian</td>\n",
       "      <td>2013-02-22 13:29:41</td>\n",
       "      <td>active</td>\n",
       "      <td>531</td>\n",
       "    </tr>\n",
       "    <tr>\n",
       "      <th>210</th>\n",
       "      <td>8</td>\n",
       "      <td>34</td>\n",
       "      <td>822.0</td>\n",
       "      <td>5</td>\n",
       "      <td>2014-08-19 10:35:34</td>\n",
       "      <td>2013-03-14 10:59:09</td>\n",
       "      <td>11195.0</td>\n",
       "      <td>english</td>\n",
       "      <td>2013-03-14 11:00:18</td>\n",
       "      <td>active</td>\n",
       "      <td>522</td>\n",
       "    </tr>\n",
       "  </tbody>\n",
       "</table>\n",
       "</div>"
      ],
      "text/plain": [
       "     month  week  user_id  events_count     last_engagement  \\\n",
       "89       8    32    319.0             5 2014-08-07 09:32:49   \n",
       "95       8    33    365.0            27 2014-08-14 15:08:55   \n",
       "127      8    32    492.0             9 2014-08-05 12:19:36   \n",
       "158      8    32    591.0             5 2014-08-07 18:03:10   \n",
       "210      8    34    822.0             5 2014-08-19 10:35:34   \n",
       "\n",
       "             created_at  company_id language        activated_at   state  \\\n",
       "89  2013-01-31 00:34:12         3.0  spanish 2013-01-31 00:35:43  active   \n",
       "95  2013-02-04 03:53:48     10053.0  spanish 2013-02-04 03:55:18  active   \n",
       "127 2013-02-14 13:11:47      8821.0  english 2013-02-14 13:13:04  active   \n",
       "158 2013-02-22 13:28:31         3.0  italian 2013-02-22 13:29:41  active   \n",
       "210 2013-03-14 10:59:09     11195.0  english 2013-03-14 11:00:18  active   \n",
       "\n",
       "     activate_lenght  \n",
       "89               553  \n",
       "95               556  \n",
       "127              536  \n",
       "158              531  \n",
       "210              522  "
      ]
     },
     "execution_count": 13,
     "metadata": {},
     "output_type": "execute_result"
    }
   ],
   "source": [
    "aug_drop_users.head()"
   ]
  },
  {
   "cell_type": "code",
   "execution_count": 14,
   "metadata": {},
   "outputs": [
    {
     "data": {
      "text/html": [
       "<div>\n",
       "<style scoped>\n",
       "    .dataframe tbody tr th:only-of-type {\n",
       "        vertical-align: middle;\n",
       "    }\n",
       "\n",
       "    .dataframe tbody tr th {\n",
       "        vertical-align: top;\n",
       "    }\n",
       "\n",
       "    .dataframe thead th {\n",
       "        text-align: right;\n",
       "    }\n",
       "</style>\n",
       "<table border=\"1\" class=\"dataframe\">\n",
       "  <thead>\n",
       "    <tr style=\"text-align: right;\">\n",
       "      <th></th>\n",
       "      <th>user_id</th>\n",
       "      <th>occurred_at</th>\n",
       "      <th>event_type</th>\n",
       "      <th>event_name</th>\n",
       "      <th>location</th>\n",
       "      <th>device</th>\n",
       "      <th>user_type</th>\n",
       "    </tr>\n",
       "  </thead>\n",
       "  <tbody>\n",
       "    <tr>\n",
       "      <th>0</th>\n",
       "      <td>10522.0</td>\n",
       "      <td>2014-05-02 11:02:39</td>\n",
       "      <td>engagement</td>\n",
       "      <td>login</td>\n",
       "      <td>Japan</td>\n",
       "      <td>dell inspiron notebook</td>\n",
       "      <td>3.0</td>\n",
       "    </tr>\n",
       "    <tr>\n",
       "      <th>1</th>\n",
       "      <td>10522.0</td>\n",
       "      <td>2014-05-02 11:02:53</td>\n",
       "      <td>engagement</td>\n",
       "      <td>home_page</td>\n",
       "      <td>Japan</td>\n",
       "      <td>dell inspiron notebook</td>\n",
       "      <td>3.0</td>\n",
       "    </tr>\n",
       "    <tr>\n",
       "      <th>2</th>\n",
       "      <td>10522.0</td>\n",
       "      <td>2014-05-02 11:03:28</td>\n",
       "      <td>engagement</td>\n",
       "      <td>like_message</td>\n",
       "      <td>Japan</td>\n",
       "      <td>dell inspiron notebook</td>\n",
       "      <td>3.0</td>\n",
       "    </tr>\n",
       "    <tr>\n",
       "      <th>3</th>\n",
       "      <td>10522.0</td>\n",
       "      <td>2014-05-02 11:04:09</td>\n",
       "      <td>engagement</td>\n",
       "      <td>view_inbox</td>\n",
       "      <td>Japan</td>\n",
       "      <td>dell inspiron notebook</td>\n",
       "      <td>3.0</td>\n",
       "    </tr>\n",
       "    <tr>\n",
       "      <th>4</th>\n",
       "      <td>10522.0</td>\n",
       "      <td>2014-05-02 11:03:16</td>\n",
       "      <td>engagement</td>\n",
       "      <td>search_run</td>\n",
       "      <td>Japan</td>\n",
       "      <td>dell inspiron notebook</td>\n",
       "      <td>3.0</td>\n",
       "    </tr>\n",
       "  </tbody>\n",
       "</table>\n",
       "</div>"
      ],
      "text/plain": [
       "   user_id         occurred_at  event_type    event_name location  \\\n",
       "0  10522.0 2014-05-02 11:02:39  engagement         login    Japan   \n",
       "1  10522.0 2014-05-02 11:02:53  engagement     home_page    Japan   \n",
       "2  10522.0 2014-05-02 11:03:28  engagement  like_message    Japan   \n",
       "3  10522.0 2014-05-02 11:04:09  engagement    view_inbox    Japan   \n",
       "4  10522.0 2014-05-02 11:03:16  engagement    search_run    Japan   \n",
       "\n",
       "                   device  user_type  \n",
       "0  dell inspiron notebook        3.0  \n",
       "1  dell inspiron notebook        3.0  \n",
       "2  dell inspiron notebook        3.0  \n",
       "3  dell inspiron notebook        3.0  \n",
       "4  dell inspiron notebook        3.0  "
      ]
     },
     "execution_count": 14,
     "metadata": {},
     "output_type": "execute_result"
    }
   ],
   "source": [
    "events.head()"
   ]
  },
  {
   "cell_type": "code",
   "execution_count": 15,
   "metadata": {},
   "outputs": [
    {
     "data": {
      "image/png": "[encoded data removed]",
      "text/plain": [
       "<Figure size 432x288 with 1 Axes>"
      ]
     },
     "metadata": {},
     "output_type": "display_data"
    }
   ],
   "source": [
    "plt.hist(aug_drop_users.activate_lenght, density=True, alpha = 0.5)\n",
    "plt.hist(control_drop_users.activate_lenght, density=True, alpha = 0.5)\n",
    "plt.show()"
   ]
  },
  {
   "cell_type": "code",
   "execution_count": 32,
   "metadata": {},
   "outputs": [
    {
     "data": {
      "image/png": "[encoded data removed]",
      "text/plain": [
       "<Figure size 432x288 with 1 Axes>"
      ]
     },
     "metadata": {},
     "output_type": "display_data"
    }
   ],
   "source": [
    "languages = aug_drop_users.language.value_counts().index\n",
    "plt.bar(languages, aug_drop_users.language.value_counts(normalize=True), alpha = 0.5)\n",
    "plt.bar(languages, control_drop_users.language.value_counts(normalize=True), alpha = 0.5)\n",
    "plt.xticks(rotation='vertical')\n",
    "plt.show()"
   ]
  },
  {
   "cell_type": "code",
   "execution_count": 22,
   "metadata": {},
   "outputs": [
    {
     "data": {
      "text/plain": [
       "Index(['english', 'spanish', 'french', 'japanese', 'german', 'chinese',\n",
       "       'arabic', 'russian', 'indian', 'portugese', 'italian', 'korean'],\n",
       "      dtype='object')"
      ]
     },
     "execution_count": 22,
     "metadata": {},
     "output_type": "execute_result"
    }
   ],
   "source": [
    "aug_drop_users.language.value_counts().index"
   ]
  },
  {
   "cell_type": "code",
   "execution_count": 33,
   "metadata": {},
   "outputs": [
    {
     "data": {
      "text/html": [
       "<div>\n",
       "<style scoped>\n",
       "    .dataframe tbody tr th:only-of-type {\n",
       "        vertical-align: middle;\n",
       "    }\n",
       "\n",
       "    .dataframe tbody tr th {\n",
       "        vertical-align: top;\n",
       "    }\n",
       "\n",
       "    .dataframe thead th {\n",
       "        text-align: right;\n",
       "    }\n",
       "</style>\n",
       "<table border=\"1\" class=\"dataframe\">\n",
       "  <thead>\n",
       "    <tr style=\"text-align: right;\">\n",
       "      <th></th>\n",
       "      <th>user_id</th>\n",
       "      <th>occurred_at</th>\n",
       "      <th>event_type</th>\n",
       "      <th>event_name</th>\n",
       "      <th>location</th>\n",
       "      <th>device</th>\n",
       "      <th>user_type</th>\n",
       "    </tr>\n",
       "  </thead>\n",
       "  <tbody>\n",
       "    <tr>\n",
       "      <th>0</th>\n",
       "      <td>10522.0</td>\n",
       "      <td>2014-05-02 11:02:39</td>\n",
       "      <td>engagement</td>\n",
       "      <td>login</td>\n",
       "      <td>Japan</td>\n",
       "      <td>dell inspiron notebook</td>\n",
       "      <td>3.0</td>\n",
       "    </tr>\n",
       "    <tr>\n",
       "      <th>1</th>\n",
       "      <td>10522.0</td>\n",
       "      <td>2014-05-02 11:02:53</td>\n",
       "      <td>engagement</td>\n",
       "      <td>home_page</td>\n",
       "      <td>Japan</td>\n",
       "      <td>dell inspiron notebook</td>\n",
       "      <td>3.0</td>\n",
       "    </tr>\n",
       "    <tr>\n",
       "      <th>2</th>\n",
       "      <td>10522.0</td>\n",
       "      <td>2014-05-02 11:03:28</td>\n",
       "      <td>engagement</td>\n",
       "      <td>like_message</td>\n",
       "      <td>Japan</td>\n",
       "      <td>dell inspiron notebook</td>\n",
       "      <td>3.0</td>\n",
       "    </tr>\n",
       "    <tr>\n",
       "      <th>3</th>\n",
       "      <td>10522.0</td>\n",
       "      <td>2014-05-02 11:04:09</td>\n",
       "      <td>engagement</td>\n",
       "      <td>view_inbox</td>\n",
       "      <td>Japan</td>\n",
       "      <td>dell inspiron notebook</td>\n",
       "      <td>3.0</td>\n",
       "    </tr>\n",
       "    <tr>\n",
       "      <th>4</th>\n",
       "      <td>10522.0</td>\n",
       "      <td>2014-05-02 11:03:16</td>\n",
       "      <td>engagement</td>\n",
       "      <td>search_run</td>\n",
       "      <td>Japan</td>\n",
       "      <td>dell inspiron notebook</td>\n",
       "      <td>3.0</td>\n",
       "    </tr>\n",
       "  </tbody>\n",
       "</table>\n",
       "</div>"
      ],
      "text/plain": [
       "   user_id         occurred_at  event_type    event_name location  \\\n",
       "0  10522.0 2014-05-02 11:02:39  engagement         login    Japan   \n",
       "1  10522.0 2014-05-02 11:02:53  engagement     home_page    Japan   \n",
       "2  10522.0 2014-05-02 11:03:28  engagement  like_message    Japan   \n",
       "3  10522.0 2014-05-02 11:04:09  engagement    view_inbox    Japan   \n",
       "4  10522.0 2014-05-02 11:03:16  engagement    search_run    Japan   \n",
       "\n",
       "                   device  user_type  \n",
       "0  dell inspiron notebook        3.0  \n",
       "1  dell inspiron notebook        3.0  \n",
       "2  dell inspiron notebook        3.0  \n",
       "3  dell inspiron notebook        3.0  \n",
       "4  dell inspiron notebook        3.0  "
      ]
     },
     "execution_count": 33,
     "metadata": {},
     "output_type": "execute_result"
    }
   ],
   "source": [
    "events.head()"
   ]
  },
  {
   "cell_type": "code",
   "execution_count": 48,
   "metadata": {},
   "outputs": [],
   "source": [
    "aug_drop_events = get_dropout_events(events, aug_drop_user_id, 32,35)\n",
    "control_drop_events = get_dropout_events(events, control_drop_user_id, 18,32)"
   ]
  },
  {
   "cell_type": "code",
   "execution_count": 47,
   "metadata": {},
   "outputs": [
    {
     "data": {
      "text/html": [
       "<div>\n",
       "<style scoped>\n",
       "    .dataframe tbody tr th:only-of-type {\n",
       "        vertical-align: middle;\n",
       "    }\n",
       "\n",
       "    .dataframe tbody tr th {\n",
       "        vertical-align: top;\n",
       "    }\n",
       "\n",
       "    .dataframe thead th {\n",
       "        text-align: right;\n",
       "    }\n",
       "</style>\n",
       "<table border=\"1\" class=\"dataframe\">\n",
       "  <thead>\n",
       "    <tr style=\"text-align: right;\">\n",
       "      <th></th>\n",
       "      <th>user_id</th>\n",
       "      <th>occurred_at</th>\n",
       "      <th>event_type</th>\n",
       "      <th>event_name</th>\n",
       "      <th>location</th>\n",
       "      <th>device</th>\n",
       "      <th>user_type</th>\n",
       "    </tr>\n",
       "  </thead>\n",
       "  <tbody>\n",
       "    <tr>\n",
       "      <th>17802</th>\n",
       "      <td>14237.0</td>\n",
       "      <td>2014-08-04 23:54:39</td>\n",
       "      <td>engagement</td>\n",
       "      <td>login</td>\n",
       "      <td>United States</td>\n",
       "      <td>ipad air</td>\n",
       "      <td>1.0</td>\n",
       "    </tr>\n",
       "    <tr>\n",
       "      <th>17803</th>\n",
       "      <td>14237.0</td>\n",
       "      <td>2014-08-04 23:54:56</td>\n",
       "      <td>engagement</td>\n",
       "      <td>home_page</td>\n",
       "      <td>United States</td>\n",
       "      <td>ipad air</td>\n",
       "      <td>1.0</td>\n",
       "    </tr>\n",
       "    <tr>\n",
       "      <th>17804</th>\n",
       "      <td>14237.0</td>\n",
       "      <td>2014-08-04 23:55:17</td>\n",
       "      <td>engagement</td>\n",
       "      <td>view_inbox</td>\n",
       "      <td>United States</td>\n",
       "      <td>ipad air</td>\n",
       "      <td>1.0</td>\n",
       "    </tr>\n",
       "    <tr>\n",
       "      <th>17805</th>\n",
       "      <td>14237.0</td>\n",
       "      <td>2014-08-04 23:55:53</td>\n",
       "      <td>engagement</td>\n",
       "      <td>home_page</td>\n",
       "      <td>United States</td>\n",
       "      <td>ipad air</td>\n",
       "      <td>1.0</td>\n",
       "    </tr>\n",
       "    <tr>\n",
       "      <th>17806</th>\n",
       "      <td>14237.0</td>\n",
       "      <td>2014-08-04 23:56:38</td>\n",
       "      <td>engagement</td>\n",
       "      <td>send_message</td>\n",
       "      <td>United States</td>\n",
       "      <td>ipad air</td>\n",
       "      <td>1.0</td>\n",
       "    </tr>\n",
       "  </tbody>\n",
       "</table>\n",
       "</div>"
      ],
      "text/plain": [
       "       user_id         occurred_at  event_type    event_name       location  \\\n",
       "17802  14237.0 2014-08-04 23:54:39  engagement         login  United States   \n",
       "17803  14237.0 2014-08-04 23:54:56  engagement     home_page  United States   \n",
       "17804  14237.0 2014-08-04 23:55:17  engagement    view_inbox  United States   \n",
       "17805  14237.0 2014-08-04 23:55:53  engagement     home_page  United States   \n",
       "17806  14237.0 2014-08-04 23:56:38  engagement  send_message  United States   \n",
       "\n",
       "         device  user_type  \n",
       "17802  ipad air        1.0  \n",
       "17803  ipad air        1.0  \n",
       "17804  ipad air        1.0  \n",
       "17805  ipad air        1.0  \n",
       "17806  ipad air        1.0  "
      ]
     },
     "execution_count": 47,
     "metadata": {},
     "output_type": "execute_result"
    }
   ],
   "source": [
    "aug_drop_events.head()"
   ]
  },
  {
   "cell_type": "code",
   "execution_count": 53,
   "metadata": {},
   "outputs": [
    {
     "data": {
      "text/plain": [
       "macbook pro               0.206963\n",
       "lenovo thinkpad           0.117292\n",
       "iphone 5                  0.080116\n",
       "macbook air               0.079578\n",
       "dell inspiron notebook    0.057093\n",
       "samsung galaxy s4         0.052823\n",
       "nexus 5                   0.038938\n",
       "iphone 5s                 0.037415\n",
       "acer aspire notebook      0.036788\n",
       "asus chromebook           0.035564\n",
       "hp pavilion desktop       0.033324\n",
       "ipad air                  0.030786\n",
       "iphone 4s                 0.027920\n",
       "dell inspiron desktop     0.026516\n",
       "acer aspire desktop       0.018782\n",
       "nexus 10                  0.016841\n",
       "nokia lumia 635           0.016423\n",
       "ipad mini                 0.015139\n",
       "nexus 7                   0.015050\n",
       "mac mini                  0.012452\n",
       "amazon fire phone         0.009854\n",
       "samsung galaxy note       0.008660\n",
       "windows surface           0.007077\n",
       "kindle fire               0.006719\n",
       "htc one                   0.006569\n",
       "samsumg galaxy tablet     0.005315\n",
       "Name: device, dtype: float64"
      ]
     },
     "execution_count": 53,
     "metadata": {},
     "output_type": "execute_result"
    }
   ],
   "source": [
    "aug_drop_events.device.value_counts(normalize=True)"
   ]
  },
  {
   "cell_type": "code",
   "execution_count": 54,
   "metadata": {},
   "outputs": [
    {
     "data": {
      "text/plain": [
       "macbook pro               0.170763\n",
       "lenovo thinkpad           0.111649\n",
       "macbook air               0.083007\n",
       "iphone 5                  0.080859\n",
       "samsung galaxy s4         0.060642\n",
       "dell inspiron notebook    0.057446\n",
       "nexus 5                   0.053976\n",
       "iphone 5s                 0.050701\n",
       "dell inspiron desktop     0.031623\n",
       "iphone 4s                 0.029805\n",
       "ipad air                  0.029739\n",
       "hp pavilion desktop       0.027508\n",
       "acer aspire notebook      0.025756\n",
       "asus chromebook           0.025512\n",
       "nexus 7                   0.020179\n",
       "ipad mini                 0.017596\n",
       "nokia lumia 635           0.017041\n",
       "nexus 10                  0.016089\n",
       "kindle fire               0.014582\n",
       "acer aspire desktop       0.014520\n",
       "htc one                   0.014354\n",
       "mac mini                  0.013485\n",
       "windows surface           0.011361\n",
       "samsung galaxy note       0.009336\n",
       "amazon fire phone         0.006790\n",
       "samsumg galaxy tablet     0.005680\n",
       "Name: device, dtype: float64"
      ]
     },
     "execution_count": 54,
     "metadata": {},
     "output_type": "execute_result"
    }
   ],
   "source": [
    "control_drop_events.device.value_counts(normalize=True)"
   ]
  },
  {
   "cell_type": "code",
   "execution_count": 55,
   "metadata": {},
   "outputs": [
    {
     "data": {
      "text/plain": [
       "macbook pro               41245\n",
       "lenovo thinkpad           26967\n",
       "macbook air               20049\n",
       "iphone 5                  19530\n",
       "samsung galaxy s4         14647\n",
       "dell inspiron notebook    13875\n",
       "nexus 5                   13037\n",
       "iphone 5s                 12246\n",
       "dell inspiron desktop      7638\n",
       "iphone 4s                  7199\n",
       "ipad air                   7183\n",
       "hp pavilion desktop        6644\n",
       "acer aspire notebook       6221\n",
       "asus chromebook            6162\n",
       "nexus 7                    4874\n",
       "ipad mini                  4250\n",
       "nokia lumia 635            4116\n",
       "nexus 10                   3886\n",
       "kindle fire                3522\n",
       "acer aspire desktop        3507\n",
       "htc one                    3467\n",
       "mac mini                   3257\n",
       "windows surface            2744\n",
       "samsung galaxy note        2255\n",
       "amazon fire phone          1640\n",
       "samsumg galaxy tablet      1372\n",
       "Name: device, dtype: int64"
      ]
     },
     "execution_count": 55,
     "metadata": {},
     "output_type": "execute_result"
    }
   ],
   "source": [
    "control_drop_events.device.value_counts()"
   ]
  },
  {
   "cell_type": "code",
   "execution_count": 56,
   "metadata": {},
   "outputs": [
    {
     "data": {
      "text/plain": [
       "macbook pro               6931\n",
       "lenovo thinkpad           3928\n",
       "iphone 5                  2683\n",
       "macbook air               2665\n",
       "dell inspiron notebook    1912\n",
       "samsung galaxy s4         1769\n",
       "nexus 5                   1304\n",
       "iphone 5s                 1253\n",
       "acer aspire notebook      1232\n",
       "asus chromebook           1191\n",
       "hp pavilion desktop       1116\n",
       "ipad air                  1031\n",
       "iphone 4s                  935\n",
       "dell inspiron desktop      888\n",
       "acer aspire desktop        629\n",
       "nexus 10                   564\n",
       "nokia lumia 635            550\n",
       "ipad mini                  507\n",
       "nexus 7                    504\n",
       "mac mini                   417\n",
       "amazon fire phone          330\n",
       "samsung galaxy note        290\n",
       "windows surface            237\n",
       "kindle fire                225\n",
       "htc one                    220\n",
       "samsumg galaxy tablet      178\n",
       "Name: device, dtype: int64"
      ]
     },
     "execution_count": 56,
     "metadata": {},
     "output_type": "execute_result"
    }
   ],
   "source": [
    "aug_drop_events.device.value_counts()"
   ]
  },
  {
   "cell_type": "code",
   "execution_count": 60,
   "metadata": {},
   "outputs": [
    {
     "data": {
      "text/plain": [
       "(266.498597202895,\n",
       " 6.577227714517933e-60,\n",
       " 1,\n",
       " array([[ 42309.68361804, 199223.31638196],\n",
       "        [  5866.31638196,  27622.68361804]]))"
      ]
     },
     "execution_count": 60,
     "metadata": {},
     "output_type": "execute_result"
    }
   ],
   "source": [
    "from scipy import stats\n",
    "survivors = np.array([[41245,241533-41245], [6931, 33489-6931]])\n",
    "stats.chi2_contingency(survivors)"
   ]
  },
  {
   "cell_type": "code",
   "execution_count": 58,
   "metadata": {},
   "outputs": [
    {
     "data": {
      "text/plain": [
       "(33489, 7)"
      ]
     },
     "execution_count": 58,
     "metadata": {},
     "output_type": "execute_result"
    }
   ],
   "source": [
    "aug_drop_events.shape"
   ]
  },
  {
   "cell_type": "markdown",
   "metadata": {},
   "source": []
  }
 ],
 "metadata": {
  "kernelspec": {
   "display_name": "Python 3",
   "language": "python",
   "name": "python3"
  },
  "language_info": {
   "codemirror_mode": {
    "name": "ipython",
    "version": 3
   },
   "file_extension": ".py",
   "mimetype": "text/x-python",
   "name": "python",
   "nbconvert_exporter": "python",
   "pygments_lexer": "ipython3",
   "version": "3.6.5"
  }
 },
 "nbformat": 4,
 "nbformat_minor": 2
}
