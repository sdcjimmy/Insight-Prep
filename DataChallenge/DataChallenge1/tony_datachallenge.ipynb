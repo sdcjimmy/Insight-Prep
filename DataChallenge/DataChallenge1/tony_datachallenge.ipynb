{
 "cells": [
  {
   "cell_type": "markdown",
   "metadata": {},
   "source": [
    "### Challenge Description\n",
    "We got employee data from a few companies. We have data about all employees who joined from 2011/01/24 to 2015/12/13. For each employee, we also know if they are still at the company as of 2015/12/13 or they have quit. Beside that, we have general info about the employee, such as avg salary during her tenure, dept, and yrs of experience.\n",
    "\n",
    "As said above, the goal is to predict employee retention and understand its main drivers\n",
    "Hints:\n",
    "- What are the main factors that drive employee churn? Do they make sense? Explain your findings.\n",
    "- What might you be able to do for the company to address employee Churn, what would be follow-up actions?\n",
    "- If you could add to this data set just one variable that could help explain employee churn, what would that be?\n",
    "- Your output should be in the form a a jupyter notebook and pdf output of a jupyter notebook in which you specify your results and how you got them.\n",
    "\n",
    "\n",
    "Data\n",
    "The table is:\n",
    "\"employee_retention\" - comprehensive information about employees.\n",
    "Columns:\n",
    "- employee_id : id of the employee. Unique by employee per company \n",
    "- company_id : company id. \n",
    "- dept : employee dept \n",
    "- seniority : number of yrs of work experience when hired \n",
    "- salary: avg yearly salary of the employee during her tenure within the company \n",
    "- join_date: when the employee joined the company, it can only be between 2011/01/24 and 2015/12/13 \n",
    "- quit_date: when the employee left her job (if she is still employed as of 2015/12/13, this field is NA)\n"
   ]
  },
  {
   "cell_type": "markdown",
   "metadata": {},
   "source": [
    "## Import libraries"
   ]
  },
  {
   "cell_type": "code",
   "execution_count": 1,
   "metadata": {},
   "outputs": [],
   "source": [
    "import pandas as pd\n",
    "import numpy as np\n",
    "import matplotlib.pyplot as plt\n",
    "import seaborn as sns\n",
    "\n",
    "%matplotlib inline"
   ]
  },
  {
   "cell_type": "code",
   "execution_count": 2,
   "metadata": {},
   "outputs": [
    {
     "name": "stdout",
     "output_type": "stream",
     "text": [
      "ls: Data: No such file or directory\n"
     ]
    }
   ],
   "source": [
    "!ls Data"
   ]
  },
  {
   "cell_type": "code",
   "execution_count": 3,
   "metadata": {},
   "outputs": [],
   "source": [
    "df = pd.read_csv(\"employee_retention_data.csv\")"
   ]
  },
  {
   "cell_type": "code",
   "execution_count": 4,
   "metadata": {},
   "outputs": [
    {
     "name": "stdout",
     "output_type": "stream",
     "text": [
      "<class 'pandas.core.frame.DataFrame'>\n",
      "RangeIndex: 24702 entries, 0 to 24701\n",
      "Data columns (total 7 columns):\n",
      "employee_id    24702 non-null float64\n",
      "company_id     24702 non-null int64\n",
      "dept           24702 non-null object\n",
      "seniority      24702 non-null int64\n",
      "salary         24702 non-null float64\n",
      "join_date      24702 non-null object\n",
      "quit_date      13510 non-null object\n",
      "dtypes: float64(2), int64(2), object(3)\n",
      "memory usage: 1.3+ MB\n"
     ]
    }
   ],
   "source": [
    "df.info()"
   ]
  },
  {
   "cell_type": "code",
   "execution_count": 5,
   "metadata": {},
   "outputs": [
    {
     "name": "stdout",
     "output_type": "stream",
     "text": [
      "<class 'pandas.core.frame.DataFrame'>\n",
      "Int64Index: 14633 entries, 1 to 24701\n",
      "Data columns (total 7 columns):\n",
      "employee_id    14633 non-null float64\n",
      "company_id     14633 non-null int64\n",
      "dept           14633 non-null object\n",
      "seniority      14633 non-null int64\n",
      "salary         14633 non-null float64\n",
      "join_date      14633 non-null object\n",
      "quit_date      14633 non-null object\n",
      "dtypes: float64(2), int64(2), object(3)\n",
      "memory usage: 914.6+ KB\n"
     ]
    }
   ],
   "source": [
    "## Clean the empty entries\n",
    "df = df.loc[(df.join_date < \"2013-12-13\")].fillna(\"2015-12-13\")\n",
    "df = df.dropna()\n",
    "df.info()"
   ]
  },
  {
   "cell_type": "code",
   "execution_count": 6,
   "metadata": {},
   "outputs": [],
   "source": [
    "df[\"dept_id\"] = df.dept.astype(\"category\").cat.codes"
   ]
  },
  {
   "cell_type": "code",
   "execution_count": 7,
   "metadata": {},
   "outputs": [
    {
     "name": "stdout",
     "output_type": "stream",
     "text": [
      "['marketing' 'customer_service' 'data_science' 'engineer' 'sales' 'design']\n",
      "[4 0 1 3 5 2]\n"
     ]
    },
    {
     "data": {
      "image/png": "[encoded data removed]",
      "text/plain": [
       "<Figure size 432x288 with 1 Axes>"
      ]
     },
     "metadata": {},
     "output_type": "display_data"
    }
   ],
   "source": [
    "## find all the departments\n",
    "print(df.dept.unique())\n",
    "print(df.dept_id.unique())\n",
    "plt.clf()\n",
    "plt.hist(df.dept_id, bins=np.arange(0, 6, 0.5))\n",
    "plt.show()"
   ]
  },
  {
   "cell_type": "code",
   "execution_count": 8,
   "metadata": {},
   "outputs": [
    {
     "name": "stdout",
     "output_type": "stream",
     "text": [
      "[ 7  2  4  9  1  6 10  5  3  8 11 12]\n"
     ]
    },
    {
     "data": {
      "image/png": "[encoded data removed]",
      "text/plain": [
       "<Figure size 432x288 with 1 Axes>"
      ]
     },
     "metadata": {},
     "output_type": "display_data"
    }
   ],
   "source": [
    "## find all the companies\n",
    "print(df.company_id.unique())\n",
    "plt.clf()\n",
    "plt.hist(df.company_id, bins=np.arange(0, 13, 0.5))\n",
    "plt.show()"
   ]
  },
  {
   "cell_type": "code",
   "execution_count": 9,
   "metadata": {},
   "outputs": [
    {
     "data": {
      "text/html": [
       "<div>\n",
       "<style scoped>\n",
       "    .dataframe tbody tr th:only-of-type {\n",
       "        vertical-align: middle;\n",
       "    }\n",
       "\n",
       "    .dataframe tbody tr th {\n",
       "        vertical-align: top;\n",
       "    }\n",
       "\n",
       "    .dataframe thead th {\n",
       "        text-align: right;\n",
       "    }\n",
       "</style>\n",
       "<table border=\"1\" class=\"dataframe\">\n",
       "  <thead>\n",
       "    <tr style=\"text-align: right;\">\n",
       "      <th></th>\n",
       "      <th>employee_id</th>\n",
       "      <th>company_id</th>\n",
       "      <th>dept</th>\n",
       "      <th>seniority</th>\n",
       "      <th>salary</th>\n",
       "      <th>join_date</th>\n",
       "      <th>quit_date</th>\n",
       "      <th>dept_id</th>\n",
       "    </tr>\n",
       "  </thead>\n",
       "  <tbody>\n",
       "    <tr>\n",
       "      <th>1</th>\n",
       "      <td>825355.0</td>\n",
       "      <td>7</td>\n",
       "      <td>marketing</td>\n",
       "      <td>20</td>\n",
       "      <td>183000.0</td>\n",
       "      <td>2013-04-29</td>\n",
       "      <td>2014-04-04</td>\n",
       "      <td>4</td>\n",
       "    </tr>\n",
       "    <tr>\n",
       "      <th>3</th>\n",
       "      <td>662910.0</td>\n",
       "      <td>7</td>\n",
       "      <td>customer_service</td>\n",
       "      <td>20</td>\n",
       "      <td>115000.0</td>\n",
       "      <td>2012-05-14</td>\n",
       "      <td>2013-06-07</td>\n",
       "      <td>0</td>\n",
       "    </tr>\n",
       "    <tr>\n",
       "      <th>4</th>\n",
       "      <td>256971.0</td>\n",
       "      <td>2</td>\n",
       "      <td>data_science</td>\n",
       "      <td>23</td>\n",
       "      <td>276000.0</td>\n",
       "      <td>2011-10-17</td>\n",
       "      <td>2014-08-22</td>\n",
       "      <td>1</td>\n",
       "    </tr>\n",
       "    <tr>\n",
       "      <th>5</th>\n",
       "      <td>509529.0</td>\n",
       "      <td>4</td>\n",
       "      <td>data_science</td>\n",
       "      <td>14</td>\n",
       "      <td>165000.0</td>\n",
       "      <td>2012-01-30</td>\n",
       "      <td>2013-08-30</td>\n",
       "      <td>1</td>\n",
       "    </tr>\n",
       "    <tr>\n",
       "      <th>6</th>\n",
       "      <td>88600.0</td>\n",
       "      <td>4</td>\n",
       "      <td>customer_service</td>\n",
       "      <td>21</td>\n",
       "      <td>107000.0</td>\n",
       "      <td>2013-10-21</td>\n",
       "      <td>2015-12-13</td>\n",
       "      <td>0</td>\n",
       "    </tr>\n",
       "  </tbody>\n",
       "</table>\n",
       "</div>"
      ],
      "text/plain": [
       "   employee_id  company_id              dept  seniority    salary   join_date  \\\n",
       "1     825355.0           7         marketing         20  183000.0  2013-04-29   \n",
       "3     662910.0           7  customer_service         20  115000.0  2012-05-14   \n",
       "4     256971.0           2      data_science         23  276000.0  2011-10-17   \n",
       "5     509529.0           4      data_science         14  165000.0  2012-01-30   \n",
       "6      88600.0           4  customer_service         21  107000.0  2013-10-21   \n",
       "\n",
       "    quit_date  dept_id  \n",
       "1  2014-04-04        4  \n",
       "3  2013-06-07        0  \n",
       "4  2014-08-22        1  \n",
       "5  2013-08-30        1  \n",
       "6  2015-12-13        0  "
      ]
     },
     "execution_count": 9,
     "metadata": {},
     "output_type": "execute_result"
    }
   ],
   "source": [
    "df.head()"
   ]
  },
  {
   "cell_type": "code",
   "execution_count": 10,
   "metadata": {},
   "outputs": [],
   "source": [
    "df[\"quit_date\"] = pd.to_datetime(df['quit_date'])\n",
    "df[\"join_date\"] = pd.to_datetime(df['join_date'])"
   ]
  },
  {
   "cell_type": "code",
   "execution_count": 11,
   "metadata": {},
   "outputs": [
    {
     "data": {
      "text/html": [
       "<div>\n",
       "<style scoped>\n",
       "    .dataframe tbody tr th:only-of-type {\n",
       "        vertical-align: middle;\n",
       "    }\n",
       "\n",
       "    .dataframe tbody tr th {\n",
       "        vertical-align: top;\n",
       "    }\n",
       "\n",
       "    .dataframe thead th {\n",
       "        text-align: right;\n",
       "    }\n",
       "</style>\n",
       "<table border=\"1\" class=\"dataframe\">\n",
       "  <thead>\n",
       "    <tr style=\"text-align: right;\">\n",
       "      <th></th>\n",
       "      <th>employee_id</th>\n",
       "      <th>company_id</th>\n",
       "      <th>dept</th>\n",
       "      <th>seniority</th>\n",
       "      <th>salary</th>\n",
       "      <th>join_date</th>\n",
       "      <th>quit_date</th>\n",
       "      <th>dept_id</th>\n",
       "      <th>duration</th>\n",
       "    </tr>\n",
       "  </thead>\n",
       "  <tbody>\n",
       "    <tr>\n",
       "      <th>1</th>\n",
       "      <td>825355.0</td>\n",
       "      <td>7</td>\n",
       "      <td>marketing</td>\n",
       "      <td>20</td>\n",
       "      <td>183000.0</td>\n",
       "      <td>2013-04-29</td>\n",
       "      <td>2014-04-04</td>\n",
       "      <td>4</td>\n",
       "      <td>11.333333</td>\n",
       "    </tr>\n",
       "    <tr>\n",
       "      <th>3</th>\n",
       "      <td>662910.0</td>\n",
       "      <td>7</td>\n",
       "      <td>customer_service</td>\n",
       "      <td>20</td>\n",
       "      <td>115000.0</td>\n",
       "      <td>2012-05-14</td>\n",
       "      <td>2013-06-07</td>\n",
       "      <td>0</td>\n",
       "      <td>12.966667</td>\n",
       "    </tr>\n",
       "    <tr>\n",
       "      <th>4</th>\n",
       "      <td>256971.0</td>\n",
       "      <td>2</td>\n",
       "      <td>data_science</td>\n",
       "      <td>23</td>\n",
       "      <td>276000.0</td>\n",
       "      <td>2011-10-17</td>\n",
       "      <td>2014-08-22</td>\n",
       "      <td>1</td>\n",
       "      <td>34.666667</td>\n",
       "    </tr>\n",
       "    <tr>\n",
       "      <th>5</th>\n",
       "      <td>509529.0</td>\n",
       "      <td>4</td>\n",
       "      <td>data_science</td>\n",
       "      <td>14</td>\n",
       "      <td>165000.0</td>\n",
       "      <td>2012-01-30</td>\n",
       "      <td>2013-08-30</td>\n",
       "      <td>1</td>\n",
       "      <td>19.266667</td>\n",
       "    </tr>\n",
       "    <tr>\n",
       "      <th>6</th>\n",
       "      <td>88600.0</td>\n",
       "      <td>4</td>\n",
       "      <td>customer_service</td>\n",
       "      <td>21</td>\n",
       "      <td>107000.0</td>\n",
       "      <td>2013-10-21</td>\n",
       "      <td>2015-12-13</td>\n",
       "      <td>0</td>\n",
       "      <td>26.100000</td>\n",
       "    </tr>\n",
       "  </tbody>\n",
       "</table>\n",
       "</div>"
      ],
      "text/plain": [
       "   employee_id  company_id              dept  seniority    salary  join_date  \\\n",
       "1     825355.0           7         marketing         20  183000.0 2013-04-29   \n",
       "3     662910.0           7  customer_service         20  115000.0 2012-05-14   \n",
       "4     256971.0           2      data_science         23  276000.0 2011-10-17   \n",
       "5     509529.0           4      data_science         14  165000.0 2012-01-30   \n",
       "6      88600.0           4  customer_service         21  107000.0 2013-10-21   \n",
       "\n",
       "   quit_date  dept_id   duration  \n",
       "1 2014-04-04        4  11.333333  \n",
       "3 2013-06-07        0  12.966667  \n",
       "4 2014-08-22        1  34.666667  \n",
       "5 2013-08-30        1  19.266667  \n",
       "6 2015-12-13        0  26.100000  "
      ]
     },
     "execution_count": 11,
     "metadata": {},
     "output_type": "execute_result"
    }
   ],
   "source": [
    "df[\"duration\"] = pd.to_numeric((df[\"quit_date\"] - df[\"join_date\"]).dt.days, downcast='integer')\n",
    "df[\"duration\"] = df[\"duration\"]/30\n",
    "df.head()"
   ]
  },
  {
   "cell_type": "code",
   "execution_count": 12,
   "metadata": {},
   "outputs": [],
   "source": [
    "df = df.drop([\"employee_id\"], axis=1)\n",
    "df = df.drop([\"join_date\", \"quit_date\"], axis=1)\n",
    "df = df.drop([\"dept\"], axis=1)"
   ]
  },
  {
   "cell_type": "code",
   "execution_count": 13,
   "metadata": {},
   "outputs": [],
   "source": [
    "df[\"duration\"] = np.rint(df[\"duration\"])"
   ]
  },
  {
   "cell_type": "code",
   "execution_count": 14,
   "metadata": {},
   "outputs": [
    {
     "data": {
      "image/png": "[encoded data removed]",
      "text/plain": [
       "<Figure size 432x288 with 1 Axes>"
      ]
     },
     "metadata": {},
     "output_type": "display_data"
    }
   ],
   "source": [
    "## check the duraiton distribution\n",
    "plt.clf()\n",
    "plt.hist(df.duration, bins=np.arange(0, 60, 0.5))\n",
    "plt.show()"
   ]
  },
  {
   "cell_type": "code",
   "execution_count": 15,
   "metadata": {},
   "outputs": [],
   "source": [
    "## descrete duration based on this distribution\n",
    "## two categories, early quit less than 1.5 years, or at least 2 years\n",
    "df.loc[(df['duration'] >= 0) & (df['duration'] <= 17), 'duration']     = 0\n",
    "df.loc[(df['duration'] > 17), 'duration']                              = 1\n",
    "#df.loc[(df['duration'] > 17) & (df['duration'] <= 30), 'duration']     = 1\n",
    "#df.loc[(df['duration'] >= 30), 'duration']                             = 2\n",
    "df['duration'] = df['duration'].astype(int)"
   ]
  },
  {
   "cell_type": "code",
   "execution_count": 16,
   "metadata": {},
   "outputs": [],
   "source": [
    "## keep only one company\n",
    "##df = df.loc[(df['company_id'] == 1) & (df['dept_id'] == 1)]\n",
    "## keep only one department\n",
    "df = df.loc[(df['dept_id'] == 1)]"
   ]
  },
  {
   "cell_type": "code",
   "execution_count": 17,
   "metadata": {},
   "outputs": [
    {
     "name": "stderr",
     "output_type": "stream",
     "text": [
      "/Users/sdcjimmy/anaconda2/envs/Insight/lib/python3.6/site-packages/matplotlib/axes/_axes.py:6462: UserWarning: The 'normed' kwarg is deprecated, and has been replaced by the 'density' kwarg.\n",
      "  warnings.warn(\"The 'normed' kwarg is deprecated, and has been \"\n",
      "/Users/sdcjimmy/anaconda2/envs/Insight/lib/python3.6/site-packages/matplotlib/axes/_axes.py:6462: UserWarning: The 'normed' kwarg is deprecated, and has been replaced by the 'density' kwarg.\n",
      "  warnings.warn(\"The 'normed' kwarg is deprecated, and has been \"\n",
      "/Users/sdcjimmy/anaconda2/envs/Insight/lib/python3.6/site-packages/matplotlib/axes/_axes.py:6462: UserWarning: The 'normed' kwarg is deprecated, and has been replaced by the 'density' kwarg.\n",
      "  warnings.warn(\"The 'normed' kwarg is deprecated, and has been \"\n",
      "/Users/sdcjimmy/anaconda2/envs/Insight/lib/python3.6/site-packages/matplotlib/axes/_axes.py:6462: UserWarning: The 'normed' kwarg is deprecated, and has been replaced by the 'density' kwarg.\n",
      "  warnings.warn(\"The 'normed' kwarg is deprecated, and has been \"\n"
     ]
    },
    {
     "data": {
      "text/plain": [
       "<seaborn.axisgrid.JointGrid at 0x1159ff668>"
      ]
     },
     "execution_count": 17,
     "metadata": {},
     "output_type": "execute_result"
    },
    {
     "data": {
      "image/png": "[encoded data removed]",
      "text/plain": [
       "<Figure size 432x432 with 3 Axes>"
      ]
     },
     "metadata": {},
     "output_type": "display_data"
    },
    {
     "data": {
      "image/png": "[encoded data removed]",
      "text/plain": [
       "<Figure size 432x432 with 3 Axes>"
      ]
     },
     "metadata": {},
     "output_type": "display_data"
    }
   ],
   "source": [
    "sns.jointplot(x=\"salary\", y=\"seniority\", data=df.loc[(df['duration'] == 0)])\n",
    "sns.jointplot(x=\"salary\", y=\"seniority\", data=df.loc[(df['duration'] == 1)])"
   ]
  },
  {
   "cell_type": "code",
   "execution_count": 18,
   "metadata": {},
   "outputs": [
    {
     "data": {
      "image/png": "[encoded data removed]",
      "text/plain": [
       "<Figure size 432x288 with 1 Axes>"
      ]
     },
     "metadata": {},
     "output_type": "display_data"
    }
   ],
   "source": [
    "plt.clf()\n",
    "n, bins, patches = plt.hist((df.loc[(df['duration'] == 0)].salary - 50000)/df.loc[(df['duration'] == 0)].seniority, alpha=0.5, density=True)\n",
    "plt.hist((df.loc[(df['duration'] == 1)].salary - 50000)/df.loc[(df['duration'] == 1)].seniority, alpha=0.5, density=True, bins=bins)\n",
    "plt.show()"
   ]
  },
  {
   "cell_type": "code",
   "execution_count": 19,
   "metadata": {},
   "outputs": [
    {
     "data": {
      "image/png": "[encoded data removed]",
      "text/plain": [
       "<Figure size 432x288 with 1 Axes>"
      ]
     },
     "metadata": {},
     "output_type": "display_data"
    }
   ],
   "source": [
    "## check the salary distribution\n",
    "plt.clf()\n",
    "plt.hist(df.salary, bins=np.arange(0, 379000, 10000))\n",
    "plt.show()"
   ]
  },
  {
   "cell_type": "code",
   "execution_count": 20,
   "metadata": {},
   "outputs": [
    {
     "data": {
      "text/plain": [
       "<seaborn.axisgrid.JointGrid at 0x1a19f9db00>"
      ]
     },
     "execution_count": 20,
     "metadata": {},
     "output_type": "execute_result"
    },
    {
     "data": {
      "image/png": "[encoded data removed]",
      "text/plain": [
       "<Figure size 432x432 with 3 Axes>"
      ]
     },
     "metadata": {},
     "output_type": "display_data"
    }
   ],
   "source": [
    "sns.jointplot(x=\"salary\", y=\"duration\", data=df[:500], kind=\"kde\")"
   ]
  },
  {
   "cell_type": "code",
   "execution_count": 21,
   "metadata": {},
   "outputs": [
    {
     "data": {
      "text/plain": [
       "<matplotlib.axes._subplots.AxesSubplot at 0x1a1a2913c8>"
      ]
     },
     "execution_count": 21,
     "metadata": {},
     "output_type": "execute_result"
    },
    {
     "data": {
      "image/png": "[encoded data removed]",
      "text/plain": [
       "<Figure size 432x288 with 1 Axes>"
      ]
     },
     "metadata": {},
     "output_type": "display_data"
    }
   ],
   "source": [
    "sns.violinplot(x=\"duration\",  y=\"salary\",  data=df[:3000])"
   ]
  },
  {
   "cell_type": "code",
   "execution_count": 22,
   "metadata": {},
   "outputs": [
    {
     "data": {
      "text/plain": [
       "<matplotlib.axes._subplots.AxesSubplot at 0x1a19f9de48>"
      ]
     },
     "execution_count": 22,
     "metadata": {},
     "output_type": "execute_result"
    },
    {
     "data": {
      "image/png": "[encoded data removed]",
      "text/plain": [
       "<Figure size 432x288 with 1 Axes>"
      ]
     },
     "metadata": {},
     "output_type": "display_data"
    }
   ],
   "source": [
    "sns.violinplot(x=\"duration\",  y=\"seniority\",  data=df[:3000])"
   ]
  },
  {
   "cell_type": "code",
   "execution_count": 23,
   "metadata": {},
   "outputs": [
    {
     "name": "stdout",
     "output_type": "stream",
     "text": [
      "(1932, 5)\n"
     ]
    },
    {
     "data": {
      "text/html": [
       "<div>\n",
       "<style scoped>\n",
       "    .dataframe tbody tr th:only-of-type {\n",
       "        vertical-align: middle;\n",
       "    }\n",
       "\n",
       "    .dataframe tbody tr th {\n",
       "        vertical-align: top;\n",
       "    }\n",
       "\n",
       "    .dataframe thead th {\n",
       "        text-align: right;\n",
       "    }\n",
       "</style>\n",
       "<table border=\"1\" class=\"dataframe\">\n",
       "  <thead>\n",
       "    <tr style=\"text-align: right;\">\n",
       "      <th></th>\n",
       "      <th>company_id</th>\n",
       "      <th>seniority</th>\n",
       "      <th>salary</th>\n",
       "      <th>dept_id</th>\n",
       "      <th>duration</th>\n",
       "    </tr>\n",
       "  </thead>\n",
       "  <tbody>\n",
       "    <tr>\n",
       "      <th>4</th>\n",
       "      <td>2</td>\n",
       "      <td>23</td>\n",
       "      <td>276000.0</td>\n",
       "      <td>1</td>\n",
       "      <td>1</td>\n",
       "    </tr>\n",
       "    <tr>\n",
       "      <th>5</th>\n",
       "      <td>4</td>\n",
       "      <td>14</td>\n",
       "      <td>165000.0</td>\n",
       "      <td>1</td>\n",
       "      <td>1</td>\n",
       "    </tr>\n",
       "    <tr>\n",
       "      <th>22</th>\n",
       "      <td>5</td>\n",
       "      <td>14</td>\n",
       "      <td>144000.0</td>\n",
       "      <td>1</td>\n",
       "      <td>1</td>\n",
       "    </tr>\n",
       "    <tr>\n",
       "      <th>26</th>\n",
       "      <td>4</td>\n",
       "      <td>26</td>\n",
       "      <td>230000.0</td>\n",
       "      <td>1</td>\n",
       "      <td>1</td>\n",
       "    </tr>\n",
       "    <tr>\n",
       "      <th>27</th>\n",
       "      <td>3</td>\n",
       "      <td>27</td>\n",
       "      <td>223000.0</td>\n",
       "      <td>1</td>\n",
       "      <td>0</td>\n",
       "    </tr>\n",
       "  </tbody>\n",
       "</table>\n",
       "</div>"
      ],
      "text/plain": [
       "    company_id  seniority    salary  dept_id  duration\n",
       "4            2         23  276000.0        1         1\n",
       "5            4         14  165000.0        1         1\n",
       "22           5         14  144000.0        1         1\n",
       "26           4         26  230000.0        1         1\n",
       "27           3         27  223000.0        1         0"
      ]
     },
     "execution_count": 23,
     "metadata": {},
     "output_type": "execute_result"
    }
   ],
   "source": [
    "print(df.shape)\n",
    "df.head()"
   ]
  },
  {
   "cell_type": "code",
   "execution_count": 24,
   "metadata": {},
   "outputs": [
    {
     "data": {
      "text/html": [
       "<div>\n",
       "<style scoped>\n",
       "    .dataframe tbody tr th:only-of-type {\n",
       "        vertical-align: middle;\n",
       "    }\n",
       "\n",
       "    .dataframe tbody tr th {\n",
       "        vertical-align: top;\n",
       "    }\n",
       "\n",
       "    .dataframe thead th {\n",
       "        text-align: right;\n",
       "    }\n",
       "</style>\n",
       "<table border=\"1\" class=\"dataframe\">\n",
       "  <thead>\n",
       "    <tr style=\"text-align: right;\">\n",
       "      <th></th>\n",
       "      <th>company_id</th>\n",
       "      <th>seniority</th>\n",
       "      <th>salary</th>\n",
       "      <th>dept_id</th>\n",
       "      <th>duration</th>\n",
       "      <th>salperseninor</th>\n",
       "    </tr>\n",
       "  </thead>\n",
       "  <tbody>\n",
       "    <tr>\n",
       "      <th>count</th>\n",
       "      <td>1932.000000</td>\n",
       "      <td>1932.000000</td>\n",
       "      <td>1932.000000</td>\n",
       "      <td>1932.0</td>\n",
       "      <td>1932.000000</td>\n",
       "      <td>1932.000000</td>\n",
       "    </tr>\n",
       "    <tr>\n",
       "      <th>mean</th>\n",
       "      <td>3.414596</td>\n",
       "      <td>14.108696</td>\n",
       "      <td>206436.335404</td>\n",
       "      <td>1.0</td>\n",
       "      <td>0.667184</td>\n",
       "      <td>1.811438</td>\n",
       "    </tr>\n",
       "    <tr>\n",
       "      <th>std</th>\n",
       "      <td>2.692886</td>\n",
       "      <td>7.901228</td>\n",
       "      <td>77626.137871</td>\n",
       "      <td>0.0</td>\n",
       "      <td>0.471343</td>\n",
       "      <td>3.530281</td>\n",
       "    </tr>\n",
       "    <tr>\n",
       "      <th>min</th>\n",
       "      <td>1.000000</td>\n",
       "      <td>1.000000</td>\n",
       "      <td>44000.000000</td>\n",
       "      <td>1.0</td>\n",
       "      <td>0.000000</td>\n",
       "      <td>-1.000000</td>\n",
       "    </tr>\n",
       "    <tr>\n",
       "      <th>25%</th>\n",
       "      <td>1.000000</td>\n",
       "      <td>7.000000</td>\n",
       "      <td>159000.000000</td>\n",
       "      <td>1.0</td>\n",
       "      <td>0.000000</td>\n",
       "      <td>0.493070</td>\n",
       "    </tr>\n",
       "    <tr>\n",
       "      <th>50%</th>\n",
       "      <td>2.000000</td>\n",
       "      <td>14.000000</td>\n",
       "      <td>208000.000000</td>\n",
       "      <td>1.0</td>\n",
       "      <td>1.000000</td>\n",
       "      <td>0.799062</td>\n",
       "    </tr>\n",
       "    <tr>\n",
       "      <th>75%</th>\n",
       "      <td>5.000000</td>\n",
       "      <td>21.000000</td>\n",
       "      <td>267000.000000</td>\n",
       "      <td>1.0</td>\n",
       "      <td>1.000000</td>\n",
       "      <td>1.742500</td>\n",
       "    </tr>\n",
       "    <tr>\n",
       "      <th>max</th>\n",
       "      <td>12.000000</td>\n",
       "      <td>29.000000</td>\n",
       "      <td>378000.000000</td>\n",
       "      <td>1.0</td>\n",
       "      <td>1.000000</td>\n",
       "      <td>43.000000</td>\n",
       "    </tr>\n",
       "  </tbody>\n",
       "</table>\n",
       "</div>"
      ],
      "text/plain": [
       "        company_id    seniority         salary  dept_id     duration  \\\n",
       "count  1932.000000  1932.000000    1932.000000   1932.0  1932.000000   \n",
       "mean      3.414596    14.108696  206436.335404      1.0     0.667184   \n",
       "std       2.692886     7.901228   77626.137871      0.0     0.471343   \n",
       "min       1.000000     1.000000   44000.000000      1.0     0.000000   \n",
       "25%       1.000000     7.000000  159000.000000      1.0     0.000000   \n",
       "50%       2.000000    14.000000  208000.000000      1.0     1.000000   \n",
       "75%       5.000000    21.000000  267000.000000      1.0     1.000000   \n",
       "max      12.000000    29.000000  378000.000000      1.0     1.000000   \n",
       "\n",
       "       salperseninor  \n",
       "count    1932.000000  \n",
       "mean        1.811438  \n",
       "std         3.530281  \n",
       "min        -1.000000  \n",
       "25%         0.493070  \n",
       "50%         0.799062  \n",
       "75%         1.742500  \n",
       "max        43.000000  "
      ]
     },
     "execution_count": 24,
     "metadata": {},
     "output_type": "execute_result"
    }
   ],
   "source": [
    "#df = df.drop([\"company_id\", \"dept_id\"], axis=1)\n",
    "df[\"salperseninor\"] = (df.salary - 50000)/1000/df.seniority**2\n",
    "df.describe()"
   ]
  },
  {
   "cell_type": "code",
   "execution_count": 25,
   "metadata": {},
   "outputs": [],
   "source": [
    "from sklearn.model_selection import train_test_split\n",
    "\n",
    "def pack_data(df, keyword=\"duration\", split=0.1, shuffle=True, SEED = 24):\n",
    "    '''For training preparation:\n",
    "    split data, and return a dictionary, \n",
    "    containing training, testing and validation\n",
    "    seed for reproducibility\n",
    "    '''\n",
    "    data = {}\n",
    "    df_X = df.drop(keyword, axis=1).copy()\n",
    "    df_y = df[keyword].copy()\n",
    "    X_train, X_test, y_train, y_test = train_test_split(df_X, df_y, train_size=1 - split, test_size=split, random_state=SEED, shuffle=shuffle)\n",
    "    X_train, X_val, y_train, y_val = train_test_split(X_train, y_train, train_size=1 - split, test_size=split, random_state=SEED, shuffle=shuffle)\n",
    "    data[\"X_train\"] = X_train.values\n",
    "    data[\"y_train\"] = y_train.values\n",
    "    #print(data[\"y_train\"])\n",
    "    data[\"X_val\"]   = X_val.values\n",
    "    data[\"y_val\"]   = y_val.values\n",
    "    data[\"X_test\"]  = X_test.values\n",
    "    data[\"y_test\"]  = y_test.values\n",
    "    return data"
   ]
  },
  {
   "cell_type": "code",
   "execution_count": 26,
   "metadata": {},
   "outputs": [],
   "source": [
    "from sklearn.linear_model import LogisticRegression\n",
    "from sklearn import metrics"
   ]
  },
  {
   "cell_type": "code",
   "execution_count": 27,
   "metadata": {},
   "outputs": [],
   "source": [
    "data = pack_data(df)\n",
    "y_train  = data[\"y_train\"]\n",
    "x_train  = data[\"X_train\"] # Creates an array of the train data\n",
    "x_val    = data[\"X_val\"] # Creats an array of the test data\n",
    "y_val    = data[\"y_val\"] # Creats an array of the test data"
   ]
  },
  {
   "cell_type": "code",
   "execution_count": 33,
   "metadata": {},
   "outputs": [
    {
     "data": {
      "text/plain": [
       "array([0, 0, 0, ..., 1, 1, 1])"
      ]
     },
     "execution_count": 33,
     "metadata": {},
     "output_type": "execute_result"
    }
   ],
   "source": []
  },
  {
   "cell_type": "code",
   "execution_count": 29,
   "metadata": {},
   "outputs": [
    {
     "name": "stdout",
     "output_type": "stream",
     "text": [
      "             precision    recall  f1-score   support\n",
      "\n",
      "          0       0.00      0.00      0.00        61\n",
      "          1       0.65      1.00      0.79       113\n",
      "\n",
      "avg / total       0.42      0.65      0.51       174\n",
      "\n",
      "ROC area 0.5639054112868127\n"
     ]
    },
    {
     "name": "stderr",
     "output_type": "stream",
     "text": [
      "/Users/sdcjimmy/anaconda2/envs/Insight/lib/python3.6/site-packages/sklearn/metrics/classification.py:1135: UndefinedMetricWarning: Precision and F-score are ill-defined and being set to 0.0 in labels with no predicted samples.\n",
      "  'precision', 'predicted', average, warn_for)\n"
     ]
    },
    {
     "data": {
      "image/png": "[encoded data removed]",
      "text/plain": [
       "<Figure size 432x288 with 1 Axes>"
      ]
     },
     "metadata": {},
     "output_type": "display_data"
    }
   ],
   "source": [
    "lr = LogisticRegression()\n",
    "lr.fit(x_train, y_train)\n",
    "print(metrics.classification_report(y_val, lr.predict(x_val)))\n",
    "probas_ = lr.predict_proba(x_val)\n",
    "# Compute ROC curve and area the curve\n",
    "fpr, tpr, thresholds = metrics.roc_curve(y_val, probas_[:, 1])\n",
    "plt.plot(fpr, tpr, lw=1, alpha=0.8)\n",
    "plt.plot([0, 1], [0, 1], lw=1, alpha=0.8)\n",
    "print(\"ROC area\", metrics.auc(fpr, tpr))"
   ]
  },
  {
   "cell_type": "code",
   "execution_count": null,
   "metadata": {},
   "outputs": [],
   "source": []
  },
  {
   "cell_type": "code",
   "execution_count": 30,
   "metadata": {},
   "outputs": [
    {
     "ename": "ModuleNotFoundError",
     "evalue": "No module named 'xgboost'",
     "output_type": "error",
     "traceback": [
      "\u001b[0;31m---------------------------------------------------------------------------\u001b[0m",
      "\u001b[0;31mModuleNotFoundError\u001b[0m                       Traceback (most recent call last)",
      "\u001b[0;32m<ipython-input-30-5943d1bfe3f1>\u001b[0m in \u001b[0;36m<module>\u001b[0;34m()\u001b[0m\n\u001b[0;32m----> 1\u001b[0;31m \u001b[0;32mimport\u001b[0m \u001b[0mxgboost\u001b[0m \u001b[0;32mas\u001b[0m \u001b[0mxgb\u001b[0m\u001b[0;34m\u001b[0m\u001b[0m\n\u001b[0m",
      "\u001b[0;31mModuleNotFoundError\u001b[0m: No module named 'xgboost'"
     ]
    }
   ],
   "source": [
    "import xgboost as xgb"
   ]
  },
  {
   "cell_type": "code",
   "execution_count": 30,
   "metadata": {},
   "outputs": [
    {
     "name": "stdout",
     "output_type": "stream",
     "text": [
      "             precision    recall  f1-score   support\n",
      "\n",
      "          0       0.43      0.10      0.16        61\n",
      "          1       0.66      0.93      0.77       113\n",
      "\n",
      "avg / total       0.58      0.64      0.56       174\n",
      "\n"
     ]
    }
   ],
   "source": [
    "xgbR = xgb.XGBClassifier(max_depth=4, n_estimators=100, learning_rate=0.01, gamma=0.1)\n",
    "xgbR.fit(x_train, y_train)\n",
    "print(metrics.classification_report(y_val, xgbR.predict(x_val)))"
   ]
  },
  {
   "cell_type": "code",
   "execution_count": 31,
   "metadata": {},
   "outputs": [
    {
     "name": "stdout",
     "output_type": "stream",
     "text": [
      "ROC area 0.578267807921\n"
     ]
    },
    {
     "data": {
      "image/png": "[encoded data removed]",
      "text/plain": [
       "<Figure size 432x288 with 1 Axes>"
      ]
     },
     "metadata": {},
     "output_type": "display_data"
    }
   ],
   "source": [
    "probas_ = xgbR.predict_proba(x_val)\n",
    "# Compute ROC curve and area the curve\n",
    "fpr, tpr, thresholds = metrics.roc_curve(y_val, probas_[:, 1])\n",
    "plt.plot(fpr, tpr, lw=1, alpha=0.8)\n",
    "plt.plot([0, 1], [0, 1], lw=1, alpha=0.8)\n",
    "print(\"ROC area\", metrics.auc(fpr, tpr))"
   ]
  },
  {
   "cell_type": "code",
   "execution_count": 32,
   "metadata": {},
   "outputs": [],
   "source": [
    "from sklearn.ensemble import RandomForestClassifier"
   ]
  },
  {
   "cell_type": "code",
   "execution_count": 33,
   "metadata": {},
   "outputs": [
    {
     "name": "stdout",
     "output_type": "stream",
     "text": [
      "             precision    recall  f1-score   support\n",
      "\n",
      "          0       1.00      0.02      0.03        61\n",
      "          1       0.65      1.00      0.79       113\n",
      "\n",
      "avg / total       0.77      0.66      0.52       174\n",
      "\n"
     ]
    }
   ],
   "source": [
    "rf = RandomForestClassifier(max_depth=4, random_state=0, n_estimators=40)\n",
    "rf.fit(x_train, y_train)\n",
    "print(metrics.classification_report(y_val, rf.predict(x_val)))"
   ]
  },
  {
   "cell_type": "code",
   "execution_count": 34,
   "metadata": {},
   "outputs": [
    {
     "name": "stdout",
     "output_type": "stream",
     "text": [
      "ROC area 0.593935876977\n"
     ]
    },
    {
     "data": {
      "image/png": "[encoded data removed]",
      "text/plain": [
       "<Figure size 432x288 with 1 Axes>"
      ]
     },
     "metadata": {},
     "output_type": "display_data"
    }
   ],
   "source": [
    "probas_ = rf.predict_proba(x_val)\n",
    "# Compute ROC curve and area the curve\n",
    "fpr, tpr, thresholds = metrics.roc_curve(y_val, probas_[:, 1])\n",
    "plt.plot(fpr, tpr, lw=1, alpha=0.8)\n",
    "plt.plot([0, 1], [0, 1], lw=1, alpha=0.8)\n",
    "print(\"ROC area\", metrics.auc(fpr, tpr))"
   ]
  },
  {
   "cell_type": "code",
   "execution_count": null,
   "metadata": {},
   "outputs": [],
   "source": []
  },
  {
   "cell_type": "code",
   "execution_count": null,
   "metadata": {},
   "outputs": [],
   "source": []
  }
 ],
 "metadata": {
  "kernelspec": {
   "display_name": "Python 3",
   "language": "python",
   "name": "python3"
  },
  "language_info": {
   "codemirror_mode": {
    "name": "ipython",
    "version": 3
   },
   "file_extension": ".py",
   "mimetype": "text/x-python",
   "name": "python",
   "nbconvert_exporter": "python",
   "pygments_lexer": "ipython3",
   "version": "3.6.5"
  }
 },
 "nbformat": 4,
 "nbformat_minor": 2
}
